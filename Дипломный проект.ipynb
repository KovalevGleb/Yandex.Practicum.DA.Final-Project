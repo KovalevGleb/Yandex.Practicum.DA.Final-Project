{
 "cells": [
  {
   "cell_type": "markdown",
   "metadata": {},
   "source": [
    "# Анализ оттока клиентов \"Метанпромбанка\""
   ]
  },
  {
   "cell_type": "markdown",
   "metadata": {},
   "source": [
    "**Описание проекта:**\n",
    "\n",
    "Я - аналитик \"Метанпромбанка\". Задача: проанализировать клиентов регионального банка и выделить сегменты клиентов,\n",
    "которые склонны уходить из банка.\n",
    "\n",
    "**Ход исследования:**\n",
    "\n",
    "- Загрузка и описание данных;\n",
    "- Предобработка данных:\n",
    "    - Приведение типов данных;\n",
    "    - Удаление дубликатов;\n",
    "    - Обработка пропусков;\n",
    "- Исследовательский анализ данных:\n",
    "    - Анализ распределения признаков в разрезе оттока:\n",
    "        - Проверить зависимость баллов кредитного скоринга и вероятности ухода;\n",
    "        - Проверить зависимость города проживания и вероятности ухода;\n",
    "        - Проверить зависимость пола и вероятности ухода;\n",
    "        - Проверить зависимость возраста и вероятности ухода;\n",
    "        - Проверить зависимость баллов собственности и вероятности ухода;\n",
    "        - Проверить зависимость баланса на счете и вероятности ухода;\n",
    "        - Проверить зависимость количества продуктов, которыми пользуется клиент и вероятности ухода;\n",
    "        - Проверить влияние наличия кредитной карты на вероятность ухода;\n",
    "        - На основе давности покупки разделить клиентов на 3 сегмента (неделя, месяц, 6 месяцев) и определить вероятность ухода в каждом сегменте;\n",
    "        - Проверить зависимость дохода клиента и вероятности ухода;\n",
    "    - Корреляционный анализ;\n",
    "- Формулирование и проверка гипотез на основании исследовательского анализа данных;\n",
    "- Выводы по результатам исследования;\n",
    "- Сегментация клиентов, у которых отток лучше, чем в среднем по банку (от 500 клиентов на сегмент);\n",
    "- Приоритезация сегментов;\n",
    "- Формулировка рекомендаций для бизнеса."
   ]
  },
  {
   "cell_type": "markdown",
   "metadata": {},
   "source": [
    "## Загрузим данные и изучите общую информацию"
   ]
  },
  {
   "cell_type": "code",
   "execution_count": 1,
   "metadata": {},
   "outputs": [
    {
     "name": "stdout",
     "output_type": "stream",
     "text": [
      "Collecting phik\n",
      "  Downloading phik-0.12.4-cp39-cp39-manylinux_2_17_x86_64.manylinux2014_x86_64.whl (686 kB)\n",
      "\u001b[K     |████████████████████████████████| 686 kB 1.2 MB/s eta 0:00:01\n",
      "\u001b[?25hRequirement already satisfied: scipy>=1.5.2 in /opt/conda/lib/python3.9/site-packages (from phik) (1.9.1)\n",
      "Requirement already satisfied: pandas>=0.25.1 in /opt/conda/lib/python3.9/site-packages (from phik) (1.2.4)\n",
      "Requirement already satisfied: matplotlib>=2.2.3 in /opt/conda/lib/python3.9/site-packages (from phik) (3.3.4)\n",
      "Requirement already satisfied: numpy>=1.18.0 in /opt/conda/lib/python3.9/site-packages (from phik) (1.21.1)\n",
      "Requirement already satisfied: joblib>=0.14.1 in /opt/conda/lib/python3.9/site-packages (from phik) (1.1.0)\n",
      "Requirement already satisfied: cycler>=0.10 in /opt/conda/lib/python3.9/site-packages (from matplotlib>=2.2.3->phik) (0.11.0)\n",
      "Requirement already satisfied: kiwisolver>=1.0.1 in /opt/conda/lib/python3.9/site-packages (from matplotlib>=2.2.3->phik) (1.4.4)\n",
      "Requirement already satisfied: python-dateutil>=2.1 in /opt/conda/lib/python3.9/site-packages (from matplotlib>=2.2.3->phik) (2.8.1)\n",
      "Requirement already satisfied: pyparsing!=2.0.4,!=2.1.2,!=2.1.6,>=2.0.3 in /opt/conda/lib/python3.9/site-packages (from matplotlib>=2.2.3->phik) (2.4.7)\n",
      "Requirement already satisfied: pillow>=6.2.0 in /opt/conda/lib/python3.9/site-packages (from matplotlib>=2.2.3->phik) (8.4.0)\n",
      "Requirement already satisfied: pytz>=2017.3 in /opt/conda/lib/python3.9/site-packages (from pandas>=0.25.1->phik) (2021.1)\n",
      "Requirement already satisfied: six>=1.5 in /opt/conda/lib/python3.9/site-packages (from python-dateutil>=2.1->matplotlib>=2.2.3->phik) (1.16.0)\n",
      "Installing collected packages: phik\n",
      "Successfully installed phik-0.12.4\n"
     ]
    }
   ],
   "source": [
    "!pip install phik\n",
    "import phik\n",
    "import pandas as pd\n",
    "import matplotlib.pyplot as plt\n",
    "import seaborn as sns\n",
    "import numpy as np\n",
    "from scipy import stats as st\n",
    "import math as mth"
   ]
  },
  {
   "cell_type": "code",
   "execution_count": 2,
   "metadata": {},
   "outputs": [],
   "source": [
    "try:\n",
    "    df = pd.read_csv('/datasets/bank_scrooge.csv')\n",
    "except:\n",
    "    df = pd.read_csv('https://code.s3.yandex.net/datasets/bank_scrooge.csv')"
   ]
  },
  {
   "cell_type": "markdown",
   "metadata": {},
   "source": [
    "Объявим функцию, которая будет выводить общую информацию о датафрейме:"
   ]
  },
  {
   "cell_type": "code",
   "execution_count": 3,
   "metadata": {},
   "outputs": [],
   "source": [
    "def df_info(df):\n",
    "    print('Общая информация')\n",
    "    print(df.info(), '\\n')\n",
    "    print('Первые 5 строк')\n",
    "    display(df.head(5))\n",
    "    print('Количество явных дубликатов')\n",
    "    print(df.duplicated().sum(), '\\n')\n",
    "    print('Абсолютное число пропусков')\n",
    "    print(df.isna().sum(), '\\n')"
   ]
  },
  {
   "cell_type": "code",
   "execution_count": 4,
   "metadata": {},
   "outputs": [
    {
     "name": "stdout",
     "output_type": "stream",
     "text": [
      "Общая информация\n",
      "<class 'pandas.core.frame.DataFrame'>\n",
      "RangeIndex: 10000 entries, 0 to 9999\n",
      "Data columns (total 12 columns):\n",
      " #   Column         Non-Null Count  Dtype  \n",
      "---  ------         --------------  -----  \n",
      " 0   USERID         10000 non-null  int64  \n",
      " 1   score          10000 non-null  float64\n",
      " 2   city           10000 non-null  object \n",
      " 3   gender         10000 non-null  object \n",
      " 4   age            9974 non-null   float64\n",
      " 5   equity         10000 non-null  int64  \n",
      " 6   balance        7705 non-null   float64\n",
      " 7   products       10000 non-null  int64  \n",
      " 8   credit_card    10000 non-null  int64  \n",
      " 9   last_activity  10000 non-null  int64  \n",
      " 10  EST_SALARY     10000 non-null  float64\n",
      " 11  churn          10000 non-null  int64  \n",
      "dtypes: float64(4), int64(6), object(2)\n",
      "memory usage: 937.6+ KB\n",
      "None \n",
      "\n",
      "Первые 5 строк\n"
     ]
    },
    {
     "data": {
      "text/html": [
       "<div>\n",
       "<style scoped>\n",
       "    .dataframe tbody tr th:only-of-type {\n",
       "        vertical-align: middle;\n",
       "    }\n",
       "\n",
       "    .dataframe tbody tr th {\n",
       "        vertical-align: top;\n",
       "    }\n",
       "\n",
       "    .dataframe thead th {\n",
       "        text-align: right;\n",
       "    }\n",
       "</style>\n",
       "<table border=\"1\" class=\"dataframe\">\n",
       "  <thead>\n",
       "    <tr style=\"text-align: right;\">\n",
       "      <th></th>\n",
       "      <th>USERID</th>\n",
       "      <th>score</th>\n",
       "      <th>city</th>\n",
       "      <th>gender</th>\n",
       "      <th>age</th>\n",
       "      <th>equity</th>\n",
       "      <th>balance</th>\n",
       "      <th>products</th>\n",
       "      <th>credit_card</th>\n",
       "      <th>last_activity</th>\n",
       "      <th>EST_SALARY</th>\n",
       "      <th>churn</th>\n",
       "    </tr>\n",
       "  </thead>\n",
       "  <tbody>\n",
       "    <tr>\n",
       "      <th>0</th>\n",
       "      <td>183012</td>\n",
       "      <td>850.0</td>\n",
       "      <td>Рыбинск</td>\n",
       "      <td>Ж</td>\n",
       "      <td>25.0</td>\n",
       "      <td>1</td>\n",
       "      <td>59214.82</td>\n",
       "      <td>2</td>\n",
       "      <td>0</td>\n",
       "      <td>1</td>\n",
       "      <td>75719.14</td>\n",
       "      <td>1</td>\n",
       "    </tr>\n",
       "    <tr>\n",
       "      <th>1</th>\n",
       "      <td>146556</td>\n",
       "      <td>861.0</td>\n",
       "      <td>Рыбинск</td>\n",
       "      <td>Ж</td>\n",
       "      <td>37.0</td>\n",
       "      <td>5</td>\n",
       "      <td>850594.33</td>\n",
       "      <td>3</td>\n",
       "      <td>1</td>\n",
       "      <td>0</td>\n",
       "      <td>86621.77</td>\n",
       "      <td>0</td>\n",
       "    </tr>\n",
       "    <tr>\n",
       "      <th>2</th>\n",
       "      <td>120722</td>\n",
       "      <td>892.0</td>\n",
       "      <td>Рыбинск</td>\n",
       "      <td>Ж</td>\n",
       "      <td>30.0</td>\n",
       "      <td>0</td>\n",
       "      <td>NaN</td>\n",
       "      <td>1</td>\n",
       "      <td>1</td>\n",
       "      <td>1</td>\n",
       "      <td>107683.34</td>\n",
       "      <td>0</td>\n",
       "    </tr>\n",
       "    <tr>\n",
       "      <th>3</th>\n",
       "      <td>225363</td>\n",
       "      <td>866.0</td>\n",
       "      <td>Ярославль</td>\n",
       "      <td>Ж</td>\n",
       "      <td>51.0</td>\n",
       "      <td>5</td>\n",
       "      <td>1524746.26</td>\n",
       "      <td>2</td>\n",
       "      <td>0</td>\n",
       "      <td>1</td>\n",
       "      <td>174423.53</td>\n",
       "      <td>1</td>\n",
       "    </tr>\n",
       "    <tr>\n",
       "      <th>4</th>\n",
       "      <td>157978</td>\n",
       "      <td>730.0</td>\n",
       "      <td>Ярославль</td>\n",
       "      <td>М</td>\n",
       "      <td>34.0</td>\n",
       "      <td>5</td>\n",
       "      <td>174.00</td>\n",
       "      <td>1</td>\n",
       "      <td>1</td>\n",
       "      <td>0</td>\n",
       "      <td>67353.16</td>\n",
       "      <td>1</td>\n",
       "    </tr>\n",
       "  </tbody>\n",
       "</table>\n",
       "</div>"
      ],
      "text/plain": [
       "   USERID  score       city gender   age  equity     balance  products  \\\n",
       "0  183012  850.0    Рыбинск      Ж  25.0       1    59214.82         2   \n",
       "1  146556  861.0    Рыбинск      Ж  37.0       5   850594.33         3   \n",
       "2  120722  892.0    Рыбинск      Ж  30.0       0         NaN         1   \n",
       "3  225363  866.0  Ярославль      Ж  51.0       5  1524746.26         2   \n",
       "4  157978  730.0  Ярославль      М  34.0       5      174.00         1   \n",
       "\n",
       "   credit_card  last_activity  EST_SALARY  churn  \n",
       "0            0              1    75719.14      1  \n",
       "1            1              0    86621.77      0  \n",
       "2            1              1   107683.34      0  \n",
       "3            0              1   174423.53      1  \n",
       "4            1              0    67353.16      1  "
      ]
     },
     "metadata": {},
     "output_type": "display_data"
    },
    {
     "name": "stdout",
     "output_type": "stream",
     "text": [
      "Количество явных дубликатов\n",
      "0 \n",
      "\n",
      "Абсолютное число пропусков\n",
      "USERID              0\n",
      "score               0\n",
      "city                0\n",
      "gender              0\n",
      "age                26\n",
      "equity              0\n",
      "balance          2295\n",
      "products            0\n",
      "credit_card         0\n",
      "last_activity       0\n",
      "EST_SALARY          0\n",
      "churn               0\n",
      "dtype: int64 \n",
      "\n"
     ]
    }
   ],
   "source": [
    "df_info(df)"
   ]
  },
  {
   "cell_type": "markdown",
   "metadata": {},
   "source": [
    "**Из общих данных можно сделать следующие выводы:**\n",
    "- Необходимо переименовать столбцы;\n",
    "- Требуется обработка пропусков в столбцах `age` и `balance`;\n",
    "- Явных дубликатов нет, но на этапе предобработки стоит проверить неявные дубликаты;\n",
    "- Необходимо изменить типы данных в столбцах `score` и `age` на int."
   ]
  },
  {
   "cell_type": "markdown",
   "metadata": {},
   "source": [
    "## Предобработка данных"
   ]
  },
  {
   "cell_type": "markdown",
   "metadata": {},
   "source": [
    "### Переименование столбцов"
   ]
  },
  {
   "cell_type": "code",
   "execution_count": 5,
   "metadata": {},
   "outputs": [],
   "source": [
    "df.rename(columns={'USERID': 'user_id', 'EST_SALARY': 'est_salary'}, inplace=True)"
   ]
  },
  {
   "cell_type": "markdown",
   "metadata": {},
   "source": [
    "### Поиск неявных дубликатов"
   ]
  },
  {
   "cell_type": "code",
   "execution_count": 6,
   "metadata": {},
   "outputs": [
    {
     "data": {
      "text/html": [
       "<div>\n",
       "<style scoped>\n",
       "    .dataframe tbody tr th:only-of-type {\n",
       "        vertical-align: middle;\n",
       "    }\n",
       "\n",
       "    .dataframe tbody tr th {\n",
       "        vertical-align: top;\n",
       "    }\n",
       "\n",
       "    .dataframe thead th {\n",
       "        text-align: right;\n",
       "    }\n",
       "</style>\n",
       "<table border=\"1\" class=\"dataframe\">\n",
       "  <thead>\n",
       "    <tr style=\"text-align: right;\">\n",
       "      <th></th>\n",
       "      <th>user_id</th>\n",
       "      <th>score</th>\n",
       "      <th>city</th>\n",
       "      <th>gender</th>\n",
       "      <th>age</th>\n",
       "      <th>equity</th>\n",
       "      <th>balance</th>\n",
       "      <th>products</th>\n",
       "      <th>credit_card</th>\n",
       "      <th>last_activity</th>\n",
       "      <th>est_salary</th>\n",
       "      <th>churn</th>\n",
       "    </tr>\n",
       "  </thead>\n",
       "  <tbody>\n",
       "    <tr>\n",
       "      <th>1893</th>\n",
       "      <td>116540</td>\n",
       "      <td>883.0</td>\n",
       "      <td>Рыбинск</td>\n",
       "      <td>Ж</td>\n",
       "      <td>55.0</td>\n",
       "      <td>1</td>\n",
       "      <td>362756.49</td>\n",
       "      <td>3</td>\n",
       "      <td>0</td>\n",
       "      <td>1</td>\n",
       "      <td>175920.48</td>\n",
       "      <td>1</td>\n",
       "    </tr>\n",
       "    <tr>\n",
       "      <th>7694</th>\n",
       "      <td>116540</td>\n",
       "      <td>887.0</td>\n",
       "      <td>Ярославль</td>\n",
       "      <td>Ж</td>\n",
       "      <td>38.0</td>\n",
       "      <td>0</td>\n",
       "      <td>NaN</td>\n",
       "      <td>1</td>\n",
       "      <td>0</td>\n",
       "      <td>1</td>\n",
       "      <td>119247.61</td>\n",
       "      <td>0</td>\n",
       "    </tr>\n",
       "    <tr>\n",
       "      <th>7542</th>\n",
       "      <td>117943</td>\n",
       "      <td>880.0</td>\n",
       "      <td>Ярославль</td>\n",
       "      <td>Ж</td>\n",
       "      <td>40.0</td>\n",
       "      <td>0</td>\n",
       "      <td>NaN</td>\n",
       "      <td>1</td>\n",
       "      <td>1</td>\n",
       "      <td>0</td>\n",
       "      <td>137718.93</td>\n",
       "      <td>0</td>\n",
       "    </tr>\n",
       "    <tr>\n",
       "      <th>4866</th>\n",
       "      <td>117943</td>\n",
       "      <td>855.0</td>\n",
       "      <td>Рыбинск</td>\n",
       "      <td>Ж</td>\n",
       "      <td>32.0</td>\n",
       "      <td>6</td>\n",
       "      <td>1036832.93</td>\n",
       "      <td>4</td>\n",
       "      <td>1</td>\n",
       "      <td>1</td>\n",
       "      <td>107792.71</td>\n",
       "      <td>1</td>\n",
       "    </tr>\n",
       "    <tr>\n",
       "      <th>5896</th>\n",
       "      <td>120258</td>\n",
       "      <td>905.0</td>\n",
       "      <td>Ярославль</td>\n",
       "      <td>М</td>\n",
       "      <td>30.0</td>\n",
       "      <td>0</td>\n",
       "      <td>NaN</td>\n",
       "      <td>1</td>\n",
       "      <td>1</td>\n",
       "      <td>1</td>\n",
       "      <td>146427.96</td>\n",
       "      <td>0</td>\n",
       "    </tr>\n",
       "    <tr>\n",
       "      <th>5863</th>\n",
       "      <td>120258</td>\n",
       "      <td>908.0</td>\n",
       "      <td>Рыбинск</td>\n",
       "      <td>Ж</td>\n",
       "      <td>38.0</td>\n",
       "      <td>4</td>\n",
       "      <td>2213581.63</td>\n",
       "      <td>2</td>\n",
       "      <td>0</td>\n",
       "      <td>1</td>\n",
       "      <td>160327.77</td>\n",
       "      <td>1</td>\n",
       "    </tr>\n",
       "    <tr>\n",
       "      <th>1411</th>\n",
       "      <td>123461</td>\n",
       "      <td>829.0</td>\n",
       "      <td>Ярославль</td>\n",
       "      <td>Ж</td>\n",
       "      <td>59.0</td>\n",
       "      <td>0</td>\n",
       "      <td>96222.44</td>\n",
       "      <td>2</td>\n",
       "      <td>0</td>\n",
       "      <td>1</td>\n",
       "      <td>102771.55</td>\n",
       "      <td>1</td>\n",
       "    </tr>\n",
       "    <tr>\n",
       "      <th>8638</th>\n",
       "      <td>123461</td>\n",
       "      <td>934.0</td>\n",
       "      <td>Рыбинск</td>\n",
       "      <td>М</td>\n",
       "      <td>34.0</td>\n",
       "      <td>0</td>\n",
       "      <td>NaN</td>\n",
       "      <td>2</td>\n",
       "      <td>1</td>\n",
       "      <td>0</td>\n",
       "      <td>291619.27</td>\n",
       "      <td>0</td>\n",
       "    </tr>\n",
       "    <tr>\n",
       "      <th>8164</th>\n",
       "      <td>124450</td>\n",
       "      <td>859.0</td>\n",
       "      <td>Ярославль</td>\n",
       "      <td>Ж</td>\n",
       "      <td>38.0</td>\n",
       "      <td>6</td>\n",
       "      <td>516811.20</td>\n",
       "      <td>1</td>\n",
       "      <td>1</td>\n",
       "      <td>1</td>\n",
       "      <td>95144.63</td>\n",
       "      <td>1</td>\n",
       "    </tr>\n",
       "    <tr>\n",
       "      <th>9775</th>\n",
       "      <td>124450</td>\n",
       "      <td>758.0</td>\n",
       "      <td>Рыбинск</td>\n",
       "      <td>Ж</td>\n",
       "      <td>36.0</td>\n",
       "      <td>0</td>\n",
       "      <td>73574.07</td>\n",
       "      <td>2</td>\n",
       "      <td>0</td>\n",
       "      <td>1</td>\n",
       "      <td>79963.59</td>\n",
       "      <td>0</td>\n",
       "    </tr>\n",
       "  </tbody>\n",
       "</table>\n",
       "</div>"
      ],
      "text/plain": [
       "      user_id  score       city gender   age  equity     balance  products  \\\n",
       "1893   116540  883.0    Рыбинск      Ж  55.0       1   362756.49         3   \n",
       "7694   116540  887.0  Ярославль      Ж  38.0       0         NaN         1   \n",
       "7542   117943  880.0  Ярославль      Ж  40.0       0         NaN         1   \n",
       "4866   117943  855.0    Рыбинск      Ж  32.0       6  1036832.93         4   \n",
       "5896   120258  905.0  Ярославль      М  30.0       0         NaN         1   \n",
       "5863   120258  908.0    Рыбинск      Ж  38.0       4  2213581.63         2   \n",
       "1411   123461  829.0  Ярославль      Ж  59.0       0    96222.44         2   \n",
       "8638   123461  934.0    Рыбинск      М  34.0       0         NaN         2   \n",
       "8164   124450  859.0  Ярославль      Ж  38.0       6   516811.20         1   \n",
       "9775   124450  758.0    Рыбинск      Ж  36.0       0    73574.07         2   \n",
       "\n",
       "      credit_card  last_activity  est_salary  churn  \n",
       "1893            0              1   175920.48      1  \n",
       "7694            0              1   119247.61      0  \n",
       "7542            1              0   137718.93      0  \n",
       "4866            1              1   107792.71      1  \n",
       "5896            1              1   146427.96      0  \n",
       "5863            0              1   160327.77      1  \n",
       "1411            0              1   102771.55      1  \n",
       "8638            1              0   291619.27      0  \n",
       "8164            1              1    95144.63      1  \n",
       "9775            0              1    79963.59      0  "
      ]
     },
     "execution_count": 6,
     "metadata": {},
     "output_type": "execute_result"
    }
   ],
   "source": [
    "df.loc[df.duplicated(subset=['user_id'], keep=False)].sort_values(by='user_id').head(10)"
   ]
  },
  {
   "cell_type": "markdown",
   "metadata": {},
   "source": [
    "Видно, что одинаковые `user_id` встречаются у пользователей из разных городов, поэтому нельзя назвать эти строки полными дубликатами и их не следует удалять."
   ]
  },
  {
   "cell_type": "markdown",
   "metadata": {},
   "source": [
    "### Обработка пропусков"
   ]
  },
  {
   "cell_type": "markdown",
   "metadata": {},
   "source": [
    "Для столбцов `age` и `balance` создадим признаки, принимающие 1, если в наблюдении пропущено значение признака, и 0, если в наблюдении значение признака не пропущено:"
   ]
  },
  {
   "cell_type": "code",
   "execution_count": 7,
   "metadata": {},
   "outputs": [],
   "source": [
    "df['pass_age'] = df['age'].isna().astype(int)\n",
    "df['pass_balance'] = df['balance'].isna().astype(int)"
   ]
  },
  {
   "cell_type": "code",
   "execution_count": 8,
   "metadata": {},
   "outputs": [
    {
     "data": {
      "text/html": [
       "<div>\n",
       "<style scoped>\n",
       "    .dataframe tbody tr th:only-of-type {\n",
       "        vertical-align: middle;\n",
       "    }\n",
       "\n",
       "    .dataframe tbody tr th {\n",
       "        vertical-align: top;\n",
       "    }\n",
       "\n",
       "    .dataframe thead th {\n",
       "        text-align: right;\n",
       "    }\n",
       "</style>\n",
       "<table border=\"1\" class=\"dataframe\">\n",
       "  <thead>\n",
       "    <tr style=\"text-align: right;\">\n",
       "      <th></th>\n",
       "      <th>user_id</th>\n",
       "      <th>score</th>\n",
       "      <th>city</th>\n",
       "      <th>gender</th>\n",
       "      <th>age</th>\n",
       "      <th>equity</th>\n",
       "      <th>balance</th>\n",
       "      <th>products</th>\n",
       "      <th>credit_card</th>\n",
       "      <th>last_activity</th>\n",
       "      <th>est_salary</th>\n",
       "      <th>churn</th>\n",
       "      <th>pass_age</th>\n",
       "      <th>pass_balance</th>\n",
       "    </tr>\n",
       "  </thead>\n",
       "  <tbody>\n",
       "    <tr>\n",
       "      <th>0</th>\n",
       "      <td>183012</td>\n",
       "      <td>850.0</td>\n",
       "      <td>Рыбинск</td>\n",
       "      <td>Ж</td>\n",
       "      <td>25.0</td>\n",
       "      <td>1</td>\n",
       "      <td>59214.82</td>\n",
       "      <td>2</td>\n",
       "      <td>0</td>\n",
       "      <td>1</td>\n",
       "      <td>75719.14</td>\n",
       "      <td>1</td>\n",
       "      <td>0</td>\n",
       "      <td>0</td>\n",
       "    </tr>\n",
       "    <tr>\n",
       "      <th>1</th>\n",
       "      <td>146556</td>\n",
       "      <td>861.0</td>\n",
       "      <td>Рыбинск</td>\n",
       "      <td>Ж</td>\n",
       "      <td>37.0</td>\n",
       "      <td>5</td>\n",
       "      <td>850594.33</td>\n",
       "      <td>3</td>\n",
       "      <td>1</td>\n",
       "      <td>0</td>\n",
       "      <td>86621.77</td>\n",
       "      <td>0</td>\n",
       "      <td>0</td>\n",
       "      <td>0</td>\n",
       "    </tr>\n",
       "    <tr>\n",
       "      <th>2</th>\n",
       "      <td>120722</td>\n",
       "      <td>892.0</td>\n",
       "      <td>Рыбинск</td>\n",
       "      <td>Ж</td>\n",
       "      <td>30.0</td>\n",
       "      <td>0</td>\n",
       "      <td>NaN</td>\n",
       "      <td>1</td>\n",
       "      <td>1</td>\n",
       "      <td>1</td>\n",
       "      <td>107683.34</td>\n",
       "      <td>0</td>\n",
       "      <td>0</td>\n",
       "      <td>1</td>\n",
       "    </tr>\n",
       "    <tr>\n",
       "      <th>3</th>\n",
       "      <td>225363</td>\n",
       "      <td>866.0</td>\n",
       "      <td>Ярославль</td>\n",
       "      <td>Ж</td>\n",
       "      <td>51.0</td>\n",
       "      <td>5</td>\n",
       "      <td>1524746.26</td>\n",
       "      <td>2</td>\n",
       "      <td>0</td>\n",
       "      <td>1</td>\n",
       "      <td>174423.53</td>\n",
       "      <td>1</td>\n",
       "      <td>0</td>\n",
       "      <td>0</td>\n",
       "    </tr>\n",
       "    <tr>\n",
       "      <th>4</th>\n",
       "      <td>157978</td>\n",
       "      <td>730.0</td>\n",
       "      <td>Ярославль</td>\n",
       "      <td>М</td>\n",
       "      <td>34.0</td>\n",
       "      <td>5</td>\n",
       "      <td>174.00</td>\n",
       "      <td>1</td>\n",
       "      <td>1</td>\n",
       "      <td>0</td>\n",
       "      <td>67353.16</td>\n",
       "      <td>1</td>\n",
       "      <td>0</td>\n",
       "      <td>0</td>\n",
       "    </tr>\n",
       "  </tbody>\n",
       "</table>\n",
       "</div>"
      ],
      "text/plain": [
       "   user_id  score       city gender   age  equity     balance  products  \\\n",
       "0   183012  850.0    Рыбинск      Ж  25.0       1    59214.82         2   \n",
       "1   146556  861.0    Рыбинск      Ж  37.0       5   850594.33         3   \n",
       "2   120722  892.0    Рыбинск      Ж  30.0       0         NaN         1   \n",
       "3   225363  866.0  Ярославль      Ж  51.0       5  1524746.26         2   \n",
       "4   157978  730.0  Ярославль      М  34.0       5      174.00         1   \n",
       "\n",
       "   credit_card  last_activity  est_salary  churn  pass_age  pass_balance  \n",
       "0            0              1    75719.14      1         0             0  \n",
       "1            1              0    86621.77      0         0             0  \n",
       "2            1              1   107683.34      0         0             1  \n",
       "3            0              1   174423.53      1         0             0  \n",
       "4            1              0    67353.16      1         0             0  "
      ]
     },
     "execution_count": 8,
     "metadata": {},
     "output_type": "execute_result"
    }
   ],
   "source": [
    "df.head()"
   ]
  },
  {
   "cell_type": "markdown",
   "metadata": {},
   "source": [
    "Построим матрицу корреляций для определения корреляции пропусков с остальными признаками:"
   ]
  },
  {
   "cell_type": "code",
   "execution_count": 9,
   "metadata": {},
   "outputs": [
    {
     "data": {
      "image/png": "[encoded data removed]",
      "text/plain": [
       "<Figure size 1224x720 with 2 Axes>"
      ]
     },
     "metadata": {},
     "output_type": "display_data"
    }
   ],
   "source": [
    "sns.set(rc={\"figure.figsize\": (17, 10)})\n",
    "sns.heatmap(\n",
    "    df.drop(columns='user_id').phik_matrix(interval_cols=['score', 'age', 'balance', 'est_salary']),\n",
    "    #user_id добавлен в interval_cols, чтобы не высвечивалось окно предупреждения\n",
    "    annot = True, fmt='.2g',\n",
    "    linewidths=3,\n",
    "    linecolor='black',\n",
    "    cmap='coolwarm',\n",
    "    center=0\n",
    ")\n",
    "plt.title('Корреляция признаков датафрейма')\n",
    "plt.show()"
   ]
  },
  {
   "cell_type": "markdown",
   "metadata": {},
   "source": [
    "Из матрицы видно, что пропуски в столбце `balance` сильно коррелируют с `equity`, так же есть достаточно сильная взаимосвязь с `score` и  `products`. Из этого следует, что данные пропуски появились не случайно, поэтому их заполнение может привести к искажениям.\n",
    "\n",
    "В столбце `age` всего 26 пропусков, можно удалить."
   ]
  },
  {
   "cell_type": "code",
   "execution_count": 10,
   "metadata": {},
   "outputs": [],
   "source": [
    "#df['age'].fillna(df['age'].median(), inplace=True)\n",
    "#df.drop(['pass_age'], axis=1, inplace=True)\n",
    "df.dropna(subset=['age'], inplace=True)"
   ]
  },
  {
   "cell_type": "markdown",
   "metadata": {},
   "source": [
    "### Приведение типов данных"
   ]
  },
  {
   "cell_type": "code",
   "execution_count": 11,
   "metadata": {},
   "outputs": [
    {
     "data": {
      "text/html": [
       "<div>\n",
       "<style scoped>\n",
       "    .dataframe tbody tr th:only-of-type {\n",
       "        vertical-align: middle;\n",
       "    }\n",
       "\n",
       "    .dataframe tbody tr th {\n",
       "        vertical-align: top;\n",
       "    }\n",
       "\n",
       "    .dataframe thead th {\n",
       "        text-align: right;\n",
       "    }\n",
       "</style>\n",
       "<table border=\"1\" class=\"dataframe\">\n",
       "  <thead>\n",
       "    <tr style=\"text-align: right;\">\n",
       "      <th></th>\n",
       "      <th>user_id</th>\n",
       "      <th>score</th>\n",
       "      <th>city</th>\n",
       "      <th>gender</th>\n",
       "      <th>age</th>\n",
       "      <th>equity</th>\n",
       "      <th>balance</th>\n",
       "      <th>products</th>\n",
       "      <th>credit_card</th>\n",
       "      <th>last_activity</th>\n",
       "      <th>est_salary</th>\n",
       "      <th>churn</th>\n",
       "      <th>pass_age</th>\n",
       "      <th>pass_balance</th>\n",
       "    </tr>\n",
       "  </thead>\n",
       "  <tbody>\n",
       "    <tr>\n",
       "      <th>0</th>\n",
       "      <td>183012</td>\n",
       "      <td>850</td>\n",
       "      <td>Рыбинск</td>\n",
       "      <td>Ж</td>\n",
       "      <td>25</td>\n",
       "      <td>1</td>\n",
       "      <td>59214.82</td>\n",
       "      <td>2</td>\n",
       "      <td>0</td>\n",
       "      <td>1</td>\n",
       "      <td>75719.14</td>\n",
       "      <td>1</td>\n",
       "      <td>0</td>\n",
       "      <td>0</td>\n",
       "    </tr>\n",
       "    <tr>\n",
       "      <th>1</th>\n",
       "      <td>146556</td>\n",
       "      <td>861</td>\n",
       "      <td>Рыбинск</td>\n",
       "      <td>Ж</td>\n",
       "      <td>37</td>\n",
       "      <td>5</td>\n",
       "      <td>850594.33</td>\n",
       "      <td>3</td>\n",
       "      <td>1</td>\n",
       "      <td>0</td>\n",
       "      <td>86621.77</td>\n",
       "      <td>0</td>\n",
       "      <td>0</td>\n",
       "      <td>0</td>\n",
       "    </tr>\n",
       "    <tr>\n",
       "      <th>2</th>\n",
       "      <td>120722</td>\n",
       "      <td>892</td>\n",
       "      <td>Рыбинск</td>\n",
       "      <td>Ж</td>\n",
       "      <td>30</td>\n",
       "      <td>0</td>\n",
       "      <td>NaN</td>\n",
       "      <td>1</td>\n",
       "      <td>1</td>\n",
       "      <td>1</td>\n",
       "      <td>107683.34</td>\n",
       "      <td>0</td>\n",
       "      <td>0</td>\n",
       "      <td>1</td>\n",
       "    </tr>\n",
       "    <tr>\n",
       "      <th>3</th>\n",
       "      <td>225363</td>\n",
       "      <td>866</td>\n",
       "      <td>Ярославль</td>\n",
       "      <td>Ж</td>\n",
       "      <td>51</td>\n",
       "      <td>5</td>\n",
       "      <td>1524746.26</td>\n",
       "      <td>2</td>\n",
       "      <td>0</td>\n",
       "      <td>1</td>\n",
       "      <td>174423.53</td>\n",
       "      <td>1</td>\n",
       "      <td>0</td>\n",
       "      <td>0</td>\n",
       "    </tr>\n",
       "    <tr>\n",
       "      <th>4</th>\n",
       "      <td>157978</td>\n",
       "      <td>730</td>\n",
       "      <td>Ярославль</td>\n",
       "      <td>М</td>\n",
       "      <td>34</td>\n",
       "      <td>5</td>\n",
       "      <td>174.00</td>\n",
       "      <td>1</td>\n",
       "      <td>1</td>\n",
       "      <td>0</td>\n",
       "      <td>67353.16</td>\n",
       "      <td>1</td>\n",
       "      <td>0</td>\n",
       "      <td>0</td>\n",
       "    </tr>\n",
       "  </tbody>\n",
       "</table>\n",
       "</div>"
      ],
      "text/plain": [
       "   user_id  score       city gender  age  equity     balance  products  \\\n",
       "0   183012    850    Рыбинск      Ж   25       1    59214.82         2   \n",
       "1   146556    861    Рыбинск      Ж   37       5   850594.33         3   \n",
       "2   120722    892    Рыбинск      Ж   30       0         NaN         1   \n",
       "3   225363    866  Ярославль      Ж   51       5  1524746.26         2   \n",
       "4   157978    730  Ярославль      М   34       5      174.00         1   \n",
       "\n",
       "   credit_card  last_activity  est_salary  churn  pass_age  pass_balance  \n",
       "0            0              1    75719.14      1         0             0  \n",
       "1            1              0    86621.77      0         0             0  \n",
       "2            1              1   107683.34      0         0             1  \n",
       "3            0              1   174423.53      1         0             0  \n",
       "4            1              0    67353.16      1         0             0  "
      ]
     },
     "execution_count": 11,
     "metadata": {},
     "output_type": "execute_result"
    }
   ],
   "source": [
    "df['age'] = df['age'].astype(int)\n",
    "df['score'] = df['score'].astype(int)\n",
    "df.head()"
   ]
  },
  {
   "cell_type": "markdown",
   "metadata": {},
   "source": [
    "**В данном пункте была произведена предобработка данных:**\n",
    "- Переименованы столбцы;\n",
    "- Найдены неявные дубликаты, но принято решение их не удалять;\n",
    "- Произведено кодирование категориальных данных;\n",
    "- Заполнены пропуски в столбце `age`, пропуски в столбце `balance` принято решение не заполнять;\n",
    "- Изменены типы данных в столбцах `score` и `age`."
   ]
  },
  {
   "cell_type": "markdown",
   "metadata": {},
   "source": [
    "## Исследовательский анализ данных"
   ]
  },
  {
   "cell_type": "markdown",
   "metadata": {},
   "source": [
    "### Анализ распределения признаков в разрезе оттока"
   ]
  },
  {
   "cell_type": "markdown",
   "metadata": {},
   "source": [
    "#### Проверить зависимость баллов кредитного скоринга и вероятности ухода"
   ]
  },
  {
   "cell_type": "code",
   "execution_count": 12,
   "metadata": {},
   "outputs": [
    {
     "data": {
      "image/png": "[encoded data removed]",
      "text/plain": [
       "<Figure size 1224x720 with 1 Axes>"
      ]
     },
     "metadata": {},
     "output_type": "display_data"
    }
   ],
   "source": [
    "ax = sns.histplot(data=df, x='score', kde=True, stat=\"density\", common_norm=False, hue='churn')\n",
    "ax.set_title('Зависимость баллов кредитного скоринга и вероятности ухода')\n",
    "ax.set_ylabel('Плотность вероятности')\n",
    "ax.set_xlabel('Баллы кредитного скоринга')\n",
    "plt.legend(labels=['Ушедшиие пользователи', 'Не ушедшиие пользователи'])\n",
    "plt.show()"
   ]
  },
  {
   "cell_type": "markdown",
   "metadata": {},
   "source": [
    "Видим, что чаще уходят пользователи с кредитным скорингом 825-910 баллов."
   ]
  },
  {
   "cell_type": "markdown",
   "metadata": {},
   "source": [
    "#### Зависимость пола и вероятности ухода"
   ]
  },
  {
   "cell_type": "code",
   "execution_count": 13,
   "metadata": {},
   "outputs": [
    {
     "data": {
      "image/png": "[encoded data removed]",
      "text/plain": [
       "<Figure size 1224x720 with 1 Axes>"
      ]
     },
     "metadata": {},
     "output_type": "display_data"
    }
   ],
   "source": [
    "ax = sns.barplot(\n",
    "    x='gender', \n",
    "    y='churn', \n",
    "    data=df, \n",
    "    color='blue',\n",
    "    estimator=np.mean,\n",
    "    ci=None\n",
    ")\n",
    "plt.axhline(\n",
    "    np.mean(df['churn']),\n",
    "    color='r',\n",
    "    linestyle='-',\n",
    "    linewidth=2,\n",
    "    label='Mean'\n",
    ")\n",
    "ax.set_title('Зависимость пола и вероятности ухода')\n",
    "ax.set_ylabel('Вероятность ухода')\n",
    "ax.set_xlabel('Пол')\n",
    "plt.show()"
   ]
  },
  {
   "cell_type": "markdown",
   "metadata": {},
   "source": [
    "Мужчины более склонны уходить, чем женщины (вероятность `0,24` против `0,13`)."
   ]
  },
  {
   "cell_type": "markdown",
   "metadata": {},
   "source": [
    "#### Зависимость города проживания и вероятности ухода"
   ]
  },
  {
   "cell_type": "code",
   "execution_count": 14,
   "metadata": {},
   "outputs": [
    {
     "data": {
      "image/png": "[encoded data removed]",
      "text/plain": [
       "<Figure size 1224x720 with 1 Axes>"
      ]
     },
     "metadata": {},
     "output_type": "display_data"
    }
   ],
   "source": [
    "ax = sns.barplot(\n",
    "    x='city', \n",
    "    y='churn', \n",
    "    data=df, \n",
    "    color='blue',\n",
    "    estimator=np.mean,\n",
    "    ci=None\n",
    ")\n",
    "plt.axhline(\n",
    "    np.mean(df['churn']),\n",
    "    color='r',\n",
    "    linestyle='-',\n",
    "    linewidth=2,\n",
    "    label='Mean'\n",
    ")\n",
    "ax.set_title('Зависимость города проживания клиента и вероятности ухода')\n",
    "ax.set_ylabel('Вероятность ухода')\n",
    "ax.set_xlabel('Город проживания')\n",
    "plt.show()"
   ]
  },
  {
   "cell_type": "markdown",
   "metadata": {},
   "source": [
    "Клиенты из `Ярославля` и `Ростова` склонны к уходу несколько больше, чем из `Рыбинска`."
   ]
  },
  {
   "cell_type": "markdown",
   "metadata": {},
   "source": [
    "#### Зависимость возраста и вероятности ухода"
   ]
  },
  {
   "cell_type": "code",
   "execution_count": 15,
   "metadata": {},
   "outputs": [
    {
     "data": {
      "image/png": "[encoded data removed]",
      "text/plain": [
       "<Figure size 1224x720 with 1 Axes>"
      ]
     },
     "metadata": {},
     "output_type": "display_data"
    }
   ],
   "source": [
    "ax = sns.barplot(\n",
    "    x='age', \n",
    "    y='churn', \n",
    "    data=df, \n",
    "    color='blue',\n",
    "    estimator=np.mean,\n",
    "    ci=None\n",
    ")\n",
    "plt.axhline(\n",
    "    np.mean(df['churn']),\n",
    "    color='r',\n",
    "    linestyle='-',\n",
    "    linewidth=2,\n",
    "    label='Mean'\n",
    ")\n",
    "ax.set_title('Зависимость возраста клиента и вероятности ухода')\n",
    "ax.set_ylabel('Вероятность ухода')\n",
    "ax.set_xlabel('Возраст')\n",
    "plt.show()"
   ]
  },
  {
   "cell_type": "markdown",
   "metadata": {},
   "source": [
    "Видим, что наиболее склонны уходить клиенты в возрасте `21` года, `25-30` лет и `50-60` лет."
   ]
  },
  {
   "cell_type": "markdown",
   "metadata": {},
   "source": [
    "#### Зависимость баллов собственности и вероятности ухода"
   ]
  },
  {
   "cell_type": "code",
   "execution_count": 16,
   "metadata": {},
   "outputs": [
    {
     "data": {
      "image/png": "[encoded data removed]",
      "text/plain": [
       "<Figure size 1224x720 with 1 Axes>"
      ]
     },
     "metadata": {},
     "output_type": "display_data"
    }
   ],
   "source": [
    "ax = sns.barplot(\n",
    "    x='equity', \n",
    "    y='churn', \n",
    "    data=df, \n",
    "    color='blue',\n",
    "    estimator=np.mean,\n",
    "    ci=None\n",
    ")\n",
    "plt.axhline(\n",
    "    np.mean(df['churn']),\n",
    "    color='r',\n",
    "    linestyle='-',\n",
    "    linewidth=2,\n",
    "    label='Mean'\n",
    ")\n",
    "ax.set_title('Зависимость баллов собственности и вероятности ухода')\n",
    "ax.set_ylabel('Вероятность ухода')\n",
    "ax.set_xlabel('Баллы собственности')\n",
    "plt.show()"
   ]
  },
  {
   "cell_type": "markdown",
   "metadata": {},
   "source": [
    "Видна явная зависимость увеличения вероятности оттока с увеличением баллов собственности. Возможно, отделу маркетинга стоит задуматься о внедрении программ страхования имущества для ужержания клиентов с высокими баллами собственности."
   ]
  },
  {
   "cell_type": "markdown",
   "metadata": {},
   "source": [
    "#### Зависимость баланса на счете и вероятности ухода"
   ]
  },
  {
   "cell_type": "code",
   "execution_count": 17,
   "metadata": {},
   "outputs": [
    {
     "data": {
      "image/png": "[encoded data removed]",
      "text/plain": [
       "<Figure size 1224x720 with 1 Axes>"
      ]
     },
     "metadata": {},
     "output_type": "display_data"
    }
   ],
   "source": [
    "ax = sns.histplot(data=df, x='balance', kde=True, stat=\"density\", common_norm=False, hue='churn')\n",
    "ax.set_title('Зависимость баланса на счете и вероятности ухода')\n",
    "ax.set_ylabel('Плотность вероятности')\n",
    "ax.set_xlabel('Баланс счета')\n",
    "plt.legend(labels=['Ушедшиие пользователи', 'Не ушедшиие пользователи'])\n",
    "plt.show()"
   ]
  },
  {
   "cell_type": "markdown",
   "metadata": {},
   "source": [
    "Из-за выбросов график не читаем. Построим боксплот для определения границы нормальных значений. Чтобы он быть информативен, ограничим отображение на диаграмме размаха отображение значений выше 20 000 000."
   ]
  },
  {
   "cell_type": "code",
   "execution_count": 18,
   "metadata": {},
   "outputs": [
    {
     "data": {
      "image/png": "[encoded data removed]",
      "text/plain": [
       "<Figure size 1224x720 with 1 Axes>"
      ]
     },
     "metadata": {},
     "output_type": "display_data"
    }
   ],
   "source": [
    "sns.boxplot(data=df, x=\"balance\")\n",
    "plt.xlim(0, 0.2*(10**8))\n",
    "plt.title('Диаграмма размаха баланса на счете')\n",
    "plt.xlabel(\"Баланс\")\n",
    "plt.show()"
   ]
  },
  {
   "cell_type": "markdown",
   "metadata": {},
   "source": [
    "Оставим на графике зависимости баланса в разрезе оттока пользователей только суммы ниже 5 000 000."
   ]
  },
  {
   "cell_type": "code",
   "execution_count": 19,
   "metadata": {},
   "outputs": [
    {
     "data": {
      "image/png": "[encoded data removed]",
      "text/plain": [
       "<Figure size 1224x720 with 1 Axes>"
      ]
     },
     "metadata": {},
     "output_type": "display_data"
    }
   ],
   "source": [
    "ax = sns.histplot(data=df.loc[df['balance'] <= 5000000], x='balance', kde=True, stat=\"density\", common_norm=False, hue='churn')\n",
    "ax.set_title('Зависимость баланса на счете и вероятности ухода')\n",
    "ax.set_ylabel('Плотность вероятности')\n",
    "ax.set_xlabel('Баланс счета')\n",
    "plt.legend(labels=['Ушедшиие пользователи', 'Не ушедшиие пользователи'])\n",
    "plt.show()"
   ]
  },
  {
   "cell_type": "markdown",
   "metadata": {},
   "source": [
    "Видим, что более склонны уходить пользователи с балансом на сету от 1 млн."
   ]
  },
  {
   "cell_type": "markdown",
   "metadata": {},
   "source": [
    "#### Зависимость количества продуктов, которыми пользуется клиент и вероятности ухода"
   ]
  },
  {
   "cell_type": "code",
   "execution_count": 20,
   "metadata": {},
   "outputs": [
    {
     "data": {
      "image/png": "[encoded data removed]",
      "text/plain": [
       "<Figure size 1224x720 with 1 Axes>"
      ]
     },
     "metadata": {},
     "output_type": "display_data"
    }
   ],
   "source": [
    "ax = sns.barplot(\n",
    "    x='products', \n",
    "    y='churn', \n",
    "    data=df, \n",
    "    color='blue',\n",
    "    estimator=np.mean,\n",
    "    ci=None\n",
    ")\n",
    "plt.axhline(\n",
    "    np.mean(df['churn']),\n",
    "    color='r',\n",
    "    linestyle='-',\n",
    "    linewidth=2,\n",
    "    label='Mean'\n",
    ")\n",
    "ax.set_title('Зависимость количества продуктов, которыми пользуется клиент и вероятности ухода')\n",
    "ax.set_ylabel('Кличество продуктов')\n",
    "plt.show()"
   ]
  },
  {
   "cell_type": "markdown",
   "metadata": {},
   "source": [
    "Видим, что уходят пользователи либо не пользующиеся продуктами вовсе, либо пользующиеся `3-5` продуктами. Видимо, отделу маркетинга стоит обратить внимание на качество этих продуктов.\n",
    "Так же видим отточность 100% у пользователей с нулем продуктов, посмотрим этих пользователей:"
   ]
  },
  {
   "cell_type": "code",
   "execution_count": 21,
   "metadata": {},
   "outputs": [
    {
     "data": {
      "text/html": [
       "<div>\n",
       "<style scoped>\n",
       "    .dataframe tbody tr th:only-of-type {\n",
       "        vertical-align: middle;\n",
       "    }\n",
       "\n",
       "    .dataframe tbody tr th {\n",
       "        vertical-align: top;\n",
       "    }\n",
       "\n",
       "    .dataframe thead th {\n",
       "        text-align: right;\n",
       "    }\n",
       "</style>\n",
       "<table border=\"1\" class=\"dataframe\">\n",
       "  <thead>\n",
       "    <tr style=\"text-align: right;\">\n",
       "      <th></th>\n",
       "      <th>user_id</th>\n",
       "      <th>score</th>\n",
       "      <th>city</th>\n",
       "      <th>gender</th>\n",
       "      <th>age</th>\n",
       "      <th>equity</th>\n",
       "      <th>balance</th>\n",
       "      <th>products</th>\n",
       "      <th>credit_card</th>\n",
       "      <th>last_activity</th>\n",
       "      <th>est_salary</th>\n",
       "      <th>churn</th>\n",
       "      <th>pass_age</th>\n",
       "      <th>pass_balance</th>\n",
       "    </tr>\n",
       "  </thead>\n",
       "  <tbody>\n",
       "    <tr>\n",
       "      <th>8957</th>\n",
       "      <td>147837</td>\n",
       "      <td>962</td>\n",
       "      <td>Рыбинск</td>\n",
       "      <td>Ж</td>\n",
       "      <td>79</td>\n",
       "      <td>3</td>\n",
       "      <td>NaN</td>\n",
       "      <td>0</td>\n",
       "      <td>0</td>\n",
       "      <td>0</td>\n",
       "      <td>25063.96</td>\n",
       "      <td>1</td>\n",
       "      <td>0</td>\n",
       "      <td>1</td>\n",
       "    </tr>\n",
       "  </tbody>\n",
       "</table>\n",
       "</div>"
      ],
      "text/plain": [
       "      user_id  score     city gender  age  equity  balance  products  \\\n",
       "8957   147837    962  Рыбинск      Ж   79       3      NaN         0   \n",
       "\n",
       "      credit_card  last_activity  est_salary  churn  pass_age  pass_balance  \n",
       "8957            0              0    25063.96      1         0             1  "
      ]
     },
     "execution_count": 21,
     "metadata": {},
     "output_type": "execute_result"
    }
   ],
   "source": [
    "df.loc[df['products'] == 0]"
   ]
  },
  {
   "cell_type": "markdown",
   "metadata": {},
   "source": [
    "Всего один человек. Видим пропуск в столбце `balance`. Данное значение аномально, удалим его."
   ]
  },
  {
   "cell_type": "code",
   "execution_count": 22,
   "metadata": {},
   "outputs": [],
   "source": [
    "df = df.loc[df['products'] != 0]"
   ]
  },
  {
   "cell_type": "markdown",
   "metadata": {},
   "source": [
    "#### Проверить влияние наличия кредитной карты на вероятность ухода"
   ]
  },
  {
   "cell_type": "code",
   "execution_count": 23,
   "metadata": {},
   "outputs": [
    {
     "data": {
      "image/png": "[encoded data removed]",
      "text/plain": [
       "<Figure size 1224x720 with 1 Axes>"
      ]
     },
     "metadata": {},
     "output_type": "display_data"
    }
   ],
   "source": [
    "ax = sns.barplot(\n",
    "    x='credit_card', \n",
    "    y='churn', \n",
    "    data=df, \n",
    "    color='blue',\n",
    "    estimator=np.mean,\n",
    "    ci=None\n",
    ")\n",
    "plt.axhline(\n",
    "    np.mean(df['churn']),\n",
    "    color='r',\n",
    "    linestyle='-',\n",
    "    linewidth=2,\n",
    "    label='Mean'\n",
    ")\n",
    "ax.set_title('Зависимость наличия кредитной карты и вероятности ухода')\n",
    "ax.set_ylabel('Наличие карты')\n",
    "plt.show()"
   ]
  },
  {
   "cell_type": "markdown",
   "metadata": {},
   "source": [
    "Отсутсвие кредитной карты сильно увеличивает вероятность ухода. По всей видимости, имеет смысл запустить регулярную компанию по продвижению кредитных продуктов."
   ]
  },
  {
   "cell_type": "markdown",
   "metadata": {},
   "source": [
    "#### Активности клиента определить вероятность ухода"
   ]
  },
  {
   "cell_type": "code",
   "execution_count": 24,
   "metadata": {},
   "outputs": [
    {
     "data": {
      "image/png": "[encoded data removed]",
      "text/plain": [
       "<Figure size 1224x720 with 1 Axes>"
      ]
     },
     "metadata": {},
     "output_type": "display_data"
    }
   ],
   "source": [
    "ax = sns.barplot(\n",
    "    x='last_activity', \n",
    "    y='churn', \n",
    "    data=df, \n",
    "    color='blue',\n",
    "    estimator=np.mean,\n",
    "    ci=None\n",
    ")\n",
    "plt.axhline(\n",
    "    np.mean(df['churn']),\n",
    "    color='r',\n",
    "    linestyle='-',\n",
    "    linewidth=2,\n",
    "    label='Mean'\n",
    ")\n",
    "ax.set_title('Зависимость активности клиента и вероятности ухода')\n",
    "ax.set_ylabel('Маркер активности')\n",
    "plt.show()"
   ]
  },
  {
   "cell_type": "markdown",
   "metadata": {},
   "source": [
    "Видим, что вероятность ухода активного пользователя в 2 раза выше, чем неактивного."
   ]
  },
  {
   "cell_type": "markdown",
   "metadata": {},
   "source": [
    "#### Зависимость дохода клиента и вероятности ухода"
   ]
  },
  {
   "cell_type": "code",
   "execution_count": 25,
   "metadata": {},
   "outputs": [
    {
     "data": {
      "image/png": "[encoded data removed]",
      "text/plain": [
       "<Figure size 1224x720 with 1 Axes>"
      ]
     },
     "metadata": {},
     "output_type": "display_data"
    }
   ],
   "source": [
    "ax = sns.histplot(data=df, x='est_salary', kde=True, stat=\"density\", common_norm=False, hue='churn')\n",
    "ax.set_title('Зависимость дохода клиента и вероятности ухода')\n",
    "ax.set_ylabel('Плотность вероятности')\n",
    "ax.set_xlabel('Доход')\n",
    "plt.legend(labels=['Ушедшиие пользователи', 'Не ушедшиие пользователи'])\n",
    "plt.show()"
   ]
  },
  {
   "cell_type": "markdown",
   "metadata": {},
   "source": [
    "Зависимости отточности от дохожа клиента не прослеживается."
   ]
  },
  {
   "cell_type": "markdown",
   "metadata": {},
   "source": [
    "**Добавить в таблицу категории отточности из предыдущих пунктов**"
   ]
  },
  {
   "cell_type": "markdown",
   "metadata": {},
   "source": [
    "### Корреляционный анализ"
   ]
  },
  {
   "cell_type": "markdown",
   "metadata": {},
   "source": [
    "Построим матрицу корреляций используя метод `phik`:"
   ]
  },
  {
   "cell_type": "code",
   "execution_count": 26,
   "metadata": {},
   "outputs": [
    {
     "data": {
      "image/png": "[encoded data removed]",
      "text/plain": [
       "<Figure size 1224x720 with 2 Axes>"
      ]
     },
     "metadata": {},
     "output_type": "display_data"
    }
   ],
   "source": [
    "sns.set(rc={\"figure.figsize\": (17, 10)})\n",
    "sns.heatmap(\n",
    "    df.drop(columns='user_id').phik_matrix(interval_cols=['score', 'age', 'balance', 'est_salary'], dropna=False),\n",
    "    #user_id добавлен в interval_cols, чтобы не высвечивалось окно предупреждения\n",
    "    annot = True, fmt='.2g',\n",
    "    linewidths=3,\n",
    "    linecolor='black',\n",
    "    cmap='coolwarm',\n",
    "    center=0\n",
    ")\n",
    "plt.title('Корреляция признаков датафрейма')\n",
    "plt.show()"
   ]
  },
  {
   "cell_type": "markdown",
   "metadata": {},
   "source": [
    "Значительной корреляции оттока с каким-то одним параметром нет. Однако, стоит обратить внимание на корреляцию с баллами собственности и количеством продуктов."
   ]
  },
  {
   "cell_type": "markdown",
   "metadata": {},
   "source": [
    "**По итогам исследовательского анализа данных можно сделать следующие выводы:**\n",
    "- Чаще уходят пользователи с кредитным скорингом `825`-`910` баллов;\n",
    "- Мужчины более склонны уходить, чем женщины (вероятность `0,24` против `0,13`);\n",
    "- Клиенты из `Ярославля` и `Ростова` склонны к уходу несколько больше, чем из `Рыбинска`;\n",
    "- Склонны уходить клиенты в возрасте `21` года, `25-30` лет и `50-60` лет;\n",
    "- Есть зависимость увеличения вероятности оттока с увеличением баллов собственности;\n",
    "- Склонны уходить пользователи с балансом на сету от 1 млн;\n",
    "- Уходят пользователи либо не пользующиеся продуктами вовсе, либо пользующиеся `3-5` продуктами;\n",
    "- Отсутсвие кредитной карты сильно увеличивает вероятность ухода;\n",
    "- Вероятность ухода активного пользователя в 2 раза выше, чем неактивного;\n",
    "- Зависимости отточности от дохожа клиента не прослеживается;\n",
    "- Значительной корреляции оттока с каким-то одним параметром нет. Однако, стоит обратить внимание на корреляцию с баллами собственности и количеством продуктов."
   ]
  },
  {
   "cell_type": "markdown",
   "metadata": {},
   "source": [
    "## Формулировка и проверка гипотез"
   ]
  },
  {
   "cell_type": "markdown",
   "metadata": {},
   "source": [
    "### Гипотеза о различии дохода между клиентами, которые ушли и теми, которые остались"
   ]
  },
  {
   "cell_type": "markdown",
   "metadata": {},
   "source": [
    "Сформулируем нулевую и альтернативную гипотезы:\n",
    "- Н0 - Доход ушедших и оставшихся пользователей одинаков;\n",
    "- Н1 - Доходы ушедших и оставшихся пользователей различны (двусторонняя).\n",
    "\n",
    "Имеем две независимые выборки,**распределение которых близко к нормальному и от выбросов в которых мы можем избавиться (примем за границу нормальных значений доход в 600000),** поэтому проведем двухвыборочный t-тест для независимых выборок, перед этим отфильтровав выбросы:"
   ]
  },
  {
   "cell_type": "code",
   "execution_count": 27,
   "metadata": {},
   "outputs": [
    {
     "name": "stdout",
     "output_type": "stream",
     "text": [
      "Среднее выборки доходов оставшихся пользователей: 129497.26\n",
      "Среднее выборки доходов ушедших пользователей: 136690.76\n",
      "p-значение 0.0005531986279870109\n",
      "Отвергаем нулевую гипотезу\n"
     ]
    }
   ],
   "source": [
    "print('Среднее выборки доходов оставшихся пользователей:', df.loc[(df['est_salary'] <= 600000) & (df['churn'] == 0)]['est_salary'].mean().round(2))\n",
    "print('Среднее выборки доходов ушедших пользователей:', df.loc[(df['est_salary'] <= 600000) & (df['churn'] == 1)]['est_salary'].mean().round(2))\n",
    "alpha = .05 #в задании не было задано, поэтому примем 0.05\n",
    "results = st.ttest_ind(\n",
    "    df.loc[(df['est_salary'] <= 600000) & (df['churn'] == 0)]['est_salary'],\n",
    "    df.loc[(df['est_salary'] <= 600000) & (df['churn'] == 1)]['est_salary']\n",
    ")\n",
    "print('p-значение', results.pvalue)\n",
    "if results.pvalue < alpha:\n",
    "    print('Отвергаем нулевую гипотезу')\n",
    "else:\n",
    "    print('Не отвергаем нулевую гипотезу')"
   ]
  },
  {
   "cell_type": "markdown",
   "metadata": {},
   "source": [
    "Таким образом, мы отвергаем нулевую гипотезу о равентсве доходов ушедших и оставшихся пользователей в пользу гипотезы о том, что доходы не равны."
   ]
  },
  {
   "cell_type": "markdown",
   "metadata": {},
   "source": [
    "### Проверим гипотезу о том, что клиенты с балансом более 1 млн. более склонны к уходу, чем клиенты с балансом менее 1 млн."
   ]
  },
  {
   "cell_type": "markdown",
   "metadata": {},
   "source": [
    "Сформулируем нулевую и альтернативную гипотезы:\n",
    "- Н0 - Баланс ушедших и оставшихся пользователей одинаков;\n",
    "- Н1 - Баланс ушедших и оставшихся пользователей не одинаков (двусторонняя).\n",
    "\n",
    "В данном случае не можем избавиться от выбросов **без потери важной информации и выборки распределены не нормально, следовательно, t-тест применить не получится**, поэтому применим тест Манна - Уитни:"
   ]
  },
  {
   "cell_type": "code",
   "execution_count": 28,
   "metadata": {},
   "outputs": [
    {
     "name": "stdout",
     "output_type": "stream",
     "text": [
      "Среднее выборки ,балансов оставшихся пользователей: 733031.63\n",
      "Среднее выборки балансов ушедших пользователей: 1134458.21\n",
      "p-значение 3.698924920784179e-69\n",
      "Отвергаем нулевую гипотезу\n"
     ]
    }
   ],
   "source": [
    "print('Среднее выборки ,балансов оставшихся пользователей:', df.loc[df['churn'] == 0]['balance'].dropna().mean().round(2))\n",
    "print('Среднее выборки балансов ушедших пользователей:', df.loc[df['churn'] == 1]['balance'].dropna().mean().round(2))\n",
    "alpha = .05 #в задании не было задано, поэтому примем 0.05\n",
    "results = st.mannwhitneyu(\n",
    "    df.loc[(df['est_salary'] <= 600000) & (df['churn'] == 0)]['balance'].dropna(),\n",
    "    df.loc[(df['est_salary'] <= 600000) & (df['churn'] == 1)]['balance'].dropna()\n",
    ")\n",
    "print('p-значение', results.pvalue)\n",
    "if results.pvalue < alpha:\n",
    "    print('Отвергаем нулевую гипотезу')\n",
    "else:\n",
    "    print('Не отвергаем нулевую гипотезу')"
   ]
  },
  {
   "cell_type": "markdown",
   "metadata": {},
   "source": [
    "Таким образом, мы отвергаем нулевую гипотезу о равентсве балансов ушедших и оставшихся пользователей в пользу гипотезы о том, что балансы не равны."
   ]
  },
  {
   "cell_type": "markdown",
   "metadata": {},
   "source": [
    "### Проверим гипотезу о разной склонности к уходу у мужчин и женщин"
   ]
  },
  {
   "cell_type": "markdown",
   "metadata": {},
   "source": [
    "Сформулируем нулевую и альтернативную гипотезы:\n",
    "- Н0 - Мужчины и женщины имеют одинаковую склонность к уходу;\n",
    "- Н1 - Мужчины и женщины имеют неодинаковую склонность к уходу (двусторонняя).\n",
    "\n",
    "Имеем соотношение пропорций, поэтому будем использовать z-тест.\n",
    "\n",
    "Объявим функцию для проверки статистической значимости отличий в группах:"
   ]
  },
  {
   "cell_type": "code",
   "execution_count": 29,
   "metadata": {},
   "outputs": [],
   "source": [
    "def z_test(s_0, s_1, t_0, t_1, alpha=0.05): #обозначим s_0 и s_1 - успехи в группах, t_0 и t_1 - количество пользователей в группах\n",
    "    # пропорция успехов в первой группе:\n",
    "    p1 = s_0/t_0\n",
    "    # пропорция успехов во второй группе:\n",
    "    p2 = s_1/t_1\n",
    "    \n",
    "    print(s_0,s_1 ,t_0 , t_1)\n",
    "    # пропорция успехов в комбинированном датасете:\n",
    "    p_combined = (s_0 + s_1) / (t_0 + t_1)\n",
    "    #разница пропорций в датасетах\n",
    "    difference = p1 - p2\n",
    "    #считаем статистику в ст.отклонениях стандартного нормального распределения\n",
    "    z_value = difference / mth.sqrt(p_combined * (1 - p_combined) * (1/t_0 + 1/t_1))\n",
    "    #задаем стандартное нормальное распределение (среднее 0, ст.отклонение 1)\n",
    "    distr = st.norm(0, 1)\n",
    "    p_value = (1 - distr.cdf(abs(z_value))) * 2\n",
    "    print('p-значение: ', p_value)\n",
    "    if (p_value < alpha):\n",
    "        print(\"Отвергаем нулевую гипотезу: между долями есть значимая разница\", '\\n')\n",
    "    else:\n",
    "        print(\"Не получилось отвергнуть нулевую гипотезу, нет оснований считать доли разными\", '\\n')"
   ]
  },
  {
   "cell_type": "code",
   "execution_count": 30,
   "metadata": {},
   "outputs": [
    {
     "name": "stdout",
     "output_type": "stream",
     "text": [
      "1183 635 4991 4982\n",
      "p-значение:  0.0\n",
      "Отвергаем нулевую гипотезу: между долями есть значимая разница \n",
      "\n"
     ]
    }
   ],
   "source": [
    "z_test(df.loc[(df['churn'] == 1) & (df['gender'] == 'М')]['user_id'].count(),\n",
    "       df.loc[(df['churn'] == 1) & (df['gender'] == 'Ж')]['user_id'].count(),\n",
    "       df.loc[df['gender'] == 'М']['user_id'].count(),\n",
    "       df.loc[df['gender'] == 'Ж']['user_id'].count()\n",
    ")"
   ]
  },
  {
   "cell_type": "markdown",
   "metadata": {},
   "source": [
    "Таким образом, мы отвергаем нулевую гипотезу о том, что пользователи разных полов имеют одинаковую склонность к уходу в пользу гипотезы о том, что склонности не равны."
   ]
  },
  {
   "cell_type": "markdown",
   "metadata": {},
   "source": [
    "## Выводы по результатам исследования"
   ]
  },
  {
   "cell_type": "markdown",
   "metadata": {},
   "source": [
    "**По результатам исследования можно сформировать следующие основные признаки отточности:**\n",
    "\n",
    "- Мужской пол;\n",
    "- Клиенты в возрасте `25`-`30` лет и `50`-`60` лет;\n",
    "- Баланс на сете от `1` млн;\n",
    "- Более `4` баллов собственности."
   ]
  },
  {
   "cell_type": "markdown",
   "metadata": {},
   "source": [
    "## Сегментация клиентов"
   ]
  },
  {
   "cell_type": "markdown",
   "metadata": {},
   "source": [
    "### Клиенты мужского пола в возрасте 25-30 лет"
   ]
  },
  {
   "cell_type": "markdown",
   "metadata": {},
   "source": [
    "Посчитаем размер и отток сегмента:"
   ]
  },
  {
   "cell_type": "code",
   "execution_count": 31,
   "metadata": {},
   "outputs": [
    {
     "name": "stdout",
     "output_type": "stream",
     "text": [
      "Размер сегмента 717, отток сегмента 0.279, средний отток по банку 0.18229218891005716.\n"
     ]
    }
   ],
   "source": [
    "df_m_2530 = df.loc[(df['age'] >= 25) & (df['age'] <= 30) & (df['gender'] == 'М')]\n",
    "print(f\"Размер сегмента {df_m_2530.shape[0]}, отток сегмента {df_m_2530['churn'].mean().round(3)}, средний отток по банку {df['churn'].mean()}.\")"
   ]
  },
  {
   "cell_type": "markdown",
   "metadata": {},
   "source": [
    "### Клиенты мужского пола в возрасте 50-60 лет"
   ]
  },
  {
   "cell_type": "markdown",
   "metadata": {},
   "source": [
    "Посчитаем размер и отток сегмента:"
   ]
  },
  {
   "cell_type": "code",
   "execution_count": 32,
   "metadata": {},
   "outputs": [
    {
     "name": "stdout",
     "output_type": "stream",
     "text": [
      "777 0.3333333333333333\n",
      "Размер сегмента 777, отток сегмента 0.333, средний отток по банку 0.18229218891005716\n"
     ]
    }
   ],
   "source": [
    "df_m_5060 = df.loc[(df['age'] >= 50) & (df['age'] <= 60) & (df['gender'] == 'М')]\n",
    "print(df_m_5060.shape[0], df_m_5060['churn'].mean())\n",
    "print(f\"Размер сегмента {df_m_5060.shape[0]}, отток сегмента {df_m_5060['churn'].mean().round(3)}, средний отток по банку {df['churn'].mean()}\")"
   ]
  },
  {
   "cell_type": "markdown",
   "metadata": {},
   "source": [
    "### Клиенты с балансом на счете от 1 млн. и 4-мя более баллами собственности"
   ]
  },
  {
   "cell_type": "markdown",
   "metadata": {},
   "source": [
    "Посчитаем размер и отток сегмента:"
   ]
  },
  {
   "cell_type": "code",
   "execution_count": 33,
   "metadata": {},
   "outputs": [
    {
     "name": "stdout",
     "output_type": "stream",
     "text": [
      "1412 0.39660056657223797\n",
      "Размер сегмента 1412, отток сегмента 0.397, средний отток по банку 0.18229218891005716\n"
     ]
    }
   ],
   "source": [
    "df_prime = df.loc[(df['balance'] >= 1000000) & (df['equity'] >= 4)]\n",
    "print(df_prime.shape[0], df_prime['churn'].mean())\n",
    "print(f\"Размер сегмента {df_prime.shape[0]}, отток сегмента {df_prime['churn'].mean().round(3)}, средний отток по банку {df['churn'].mean()}\")"
   ]
  },
  {
   "cell_type": "markdown",
   "metadata": {},
   "source": [
    "## Приоритезация сегментов"
   ]
  },
  {
   "cell_type": "markdown",
   "metadata": {},
   "source": [
    "При приоретизации будем опираться на слежующие факторы:\n",
    "- Размер сегмента;\n",
    "- Отток сегмента;\n",
    "- Трудозатраты по удержанию пользователей из данного сегмента.\n",
    "\n",
    "По размеру и оттоку самым приоритетным можно сделать `третий` сегмент, однако, для удержания пользователей с большими счетами и высокими баллами собственности потребуются значительные затраты, поэтому данный сегмент будет иметь самый низкий приоритет из этих трех. Мужчины в возрасте `50`-`60` получат больший приоритет по сравнению с первым сегментом, так как размер данного сегмента и отток в нем выше. Таким образом приоритет будет выглядеть следующим образом:\n",
    "1. Клиенты мужского пола в возрасте 50-60 лет\n",
    "2. Клиенты мужского пола в возрасте 25-30 лет\n",
    "3. Клиенты с балансом на счете от 1 млн. и 4-мя более баллами собственности"
   ]
  },
  {
   "cell_type": "markdown",
   "metadata": {},
   "source": [
    "## Формулировка рекомендаций для бизнеса"
   ]
  },
  {
   "cell_type": "markdown",
   "metadata": {},
   "source": [
    "**По итогам выделения и приоритезации сегментов можно дать следующие рекомендации бизнесу (номер пунтка ниже соответствует номеру сегмента из предыдущего пункта):**\n",
    "\n",
    "1. Повышенный cashback на медицинские услуги, товары для охоты/рыбалки, акционные вклады/накопительные счета для данной категории клиентов;\n",
    "2. Промокоды на стриминговые сервисы при открытии банковских продуктов (вклады, накопительные счета, кредитные карты и тд), cashback на кафе/рестораны, развлечения, образование.\n",
    "3. Премиальным клиентам необходимо предложить возможность инвестировать свои средства: обучение инвестированию, НПФ, ЗПИФ, ОМС, страховые продукты (в т.ч. имущества) премиальная карта с повышенным cashback с категориями на выбор."
   ]
  }
 ],
 "metadata": {
  "ExecuteTimeLog": [
   {
    "duration": 415,
    "start_time": "2024-10-21T12:20:27.531Z"
   },
   {
    "duration": 108,
    "start_time": "2024-10-21T12:25:18.991Z"
   },
   {
    "duration": 5,
    "start_time": "2024-10-21T12:25:54.265Z"
   },
   {
    "duration": 105,
    "start_time": "2024-10-21T12:26:07.847Z"
   },
   {
    "duration": 840,
    "start_time": "2024-10-21T12:27:26.006Z"
   },
   {
    "duration": 49,
    "start_time": "2024-10-21T12:27:26.848Z"
   },
   {
    "duration": 35,
    "start_time": "2024-10-21T12:27:26.899Z"
   },
   {
    "duration": 145,
    "start_time": "2024-10-21T12:27:26.936Z"
   },
   {
    "duration": 1207,
    "start_time": "2024-10-21T12:27:58.411Z"
   },
   {
    "duration": 48,
    "start_time": "2024-10-21T12:27:59.620Z"
   },
   {
    "duration": 6,
    "start_time": "2024-10-21T12:27:59.670Z"
   },
   {
    "duration": 2441,
    "start_time": "2024-10-21T12:27:59.678Z"
   },
   {
    "duration": 424,
    "start_time": "2024-10-21T12:30:56.193Z"
   },
   {
    "duration": 47,
    "start_time": "2024-10-21T12:30:56.619Z"
   },
   {
    "duration": 4,
    "start_time": "2024-10-21T12:30:56.668Z"
   },
   {
    "duration": 41,
    "start_time": "2024-10-21T12:30:56.674Z"
   },
   {
    "duration": 425,
    "start_time": "2024-10-21T14:11:40.689Z"
   },
   {
    "duration": 46,
    "start_time": "2024-10-21T14:11:41.116Z"
   },
   {
    "duration": 4,
    "start_time": "2024-10-21T14:11:41.164Z"
   },
   {
    "duration": 148,
    "start_time": "2024-10-21T14:11:41.169Z"
   },
   {
    "duration": 1322,
    "start_time": "2024-10-21T14:12:05.359Z"
   },
   {
    "duration": 48,
    "start_time": "2024-10-21T14:12:06.683Z"
   },
   {
    "duration": 5,
    "start_time": "2024-10-21T14:12:06.732Z"
   },
   {
    "duration": 484,
    "start_time": "2024-10-21T14:12:06.738Z"
   },
   {
    "duration": 1162,
    "start_time": "2024-10-21T14:20:43.321Z"
   },
   {
    "duration": 47,
    "start_time": "2024-10-21T14:20:44.485Z"
   },
   {
    "duration": 4,
    "start_time": "2024-10-21T14:20:44.534Z"
   },
   {
    "duration": 1382,
    "start_time": "2024-10-21T14:20:44.540Z"
   },
   {
    "duration": 1278,
    "start_time": "2024-10-21T14:25:23.764Z"
   },
   {
    "duration": 49,
    "start_time": "2024-10-21T14:25:25.044Z"
   },
   {
    "duration": 5,
    "start_time": "2024-10-21T14:25:25.094Z"
   },
   {
    "duration": 522,
    "start_time": "2024-10-21T14:25:25.101Z"
   },
   {
    "duration": 18,
    "start_time": "2024-10-21T14:29:37.175Z"
   },
   {
    "duration": 47,
    "start_time": "2024-10-22T07:08:15.900Z"
   },
   {
    "duration": 1303,
    "start_time": "2024-10-22T07:08:23.693Z"
   },
   {
    "duration": 91,
    "start_time": "2024-10-22T07:08:24.998Z"
   },
   {
    "duration": 3,
    "start_time": "2024-10-22T07:08:25.091Z"
   },
   {
    "duration": 36,
    "start_time": "2024-10-22T07:08:25.095Z"
   },
   {
    "duration": 7,
    "start_time": "2024-10-22T07:08:25.132Z"
   },
   {
    "duration": 4,
    "start_time": "2024-10-22T07:50:41.744Z"
   },
   {
    "duration": 13,
    "start_time": "2024-10-22T07:50:52.000Z"
   },
   {
    "duration": 9,
    "start_time": "2024-10-22T08:03:20.300Z"
   },
   {
    "duration": 28,
    "start_time": "2024-10-22T08:03:37.778Z"
   },
   {
    "duration": 33,
    "start_time": "2024-10-22T08:04:06.877Z"
   },
   {
    "duration": 15,
    "start_time": "2024-10-22T08:05:03.609Z"
   },
   {
    "duration": 16,
    "start_time": "2024-10-22T08:13:04.292Z"
   },
   {
    "duration": 134,
    "start_time": "2024-10-22T09:05:47.276Z"
   },
   {
    "duration": 8,
    "start_time": "2024-10-22T09:05:55.064Z"
   },
   {
    "duration": 19,
    "start_time": "2024-10-22T09:06:31.374Z"
   },
   {
    "duration": 16,
    "start_time": "2024-10-22T09:10:30.042Z"
   },
   {
    "duration": 16,
    "start_time": "2024-10-22T09:14:48.601Z"
   },
   {
    "duration": 1169,
    "start_time": "2024-10-22T09:15:28.433Z"
   },
   {
    "duration": 44,
    "start_time": "2024-10-22T09:15:29.604Z"
   },
   {
    "duration": 5,
    "start_time": "2024-10-22T09:15:29.649Z"
   },
   {
    "duration": 41,
    "start_time": "2024-10-22T09:15:29.655Z"
   },
   {
    "duration": 4,
    "start_time": "2024-10-22T09:15:29.698Z"
   },
   {
    "duration": 21,
    "start_time": "2024-10-22T09:15:29.703Z"
   },
   {
    "duration": 9,
    "start_time": "2024-10-22T09:15:29.725Z"
   },
   {
    "duration": 45,
    "start_time": "2024-10-22T09:15:29.736Z"
   },
   {
    "duration": 17,
    "start_time": "2024-10-22T09:15:29.783Z"
   },
   {
    "duration": 1900,
    "start_time": "2024-10-22T09:15:40.175Z"
   },
   {
    "duration": 43,
    "start_time": "2024-10-22T09:15:42.077Z"
   },
   {
    "duration": 3,
    "start_time": "2024-10-22T09:15:42.122Z"
   },
   {
    "duration": 44,
    "start_time": "2024-10-22T09:15:42.127Z"
   },
   {
    "duration": 3,
    "start_time": "2024-10-22T09:15:42.172Z"
   },
   {
    "duration": 21,
    "start_time": "2024-10-22T09:15:42.177Z"
   },
   {
    "duration": 9,
    "start_time": "2024-10-22T09:15:42.200Z"
   },
   {
    "duration": 8,
    "start_time": "2024-10-22T09:15:42.210Z"
   },
   {
    "duration": 18,
    "start_time": "2024-10-22T09:15:42.219Z"
   },
   {
    "duration": 4,
    "start_time": "2024-10-22T12:39:30.374Z"
   },
   {
    "duration": 13,
    "start_time": "2024-10-22T12:39:33.044Z"
   },
   {
    "duration": 1091,
    "start_time": "2024-10-22T12:40:06.503Z"
   },
   {
    "duration": 42,
    "start_time": "2024-10-22T12:40:07.596Z"
   },
   {
    "duration": 4,
    "start_time": "2024-10-22T12:40:07.639Z"
   },
   {
    "duration": 46,
    "start_time": "2024-10-22T12:40:07.644Z"
   },
   {
    "duration": 3,
    "start_time": "2024-10-22T12:40:07.692Z"
   },
   {
    "duration": 21,
    "start_time": "2024-10-22T12:40:07.696Z"
   },
   {
    "duration": 8,
    "start_time": "2024-10-22T12:40:07.718Z"
   },
   {
    "duration": 7,
    "start_time": "2024-10-22T12:40:07.727Z"
   },
   {
    "duration": 41,
    "start_time": "2024-10-22T12:40:07.736Z"
   },
   {
    "duration": 5,
    "start_time": "2024-10-22T12:40:07.778Z"
   },
   {
    "duration": 17,
    "start_time": "2024-10-22T12:40:07.784Z"
   },
   {
    "duration": 1149,
    "start_time": "2024-10-22T12:41:30.340Z"
   },
   {
    "duration": 42,
    "start_time": "2024-10-22T12:41:31.491Z"
   },
   {
    "duration": 4,
    "start_time": "2024-10-22T12:41:31.534Z"
   },
   {
    "duration": 36,
    "start_time": "2024-10-22T12:41:31.540Z"
   },
   {
    "duration": 4,
    "start_time": "2024-10-22T12:41:31.577Z"
   },
   {
    "duration": 19,
    "start_time": "2024-10-22T12:41:31.583Z"
   },
   {
    "duration": 9,
    "start_time": "2024-10-22T12:41:31.604Z"
   },
   {
    "duration": 21,
    "start_time": "2024-10-22T12:41:31.615Z"
   },
   {
    "duration": 17,
    "start_time": "2024-10-22T12:41:31.638Z"
   },
   {
    "duration": 5,
    "start_time": "2024-10-22T12:41:31.677Z"
   },
   {
    "duration": 22,
    "start_time": "2024-10-22T12:41:31.684Z"
   },
   {
    "duration": 99,
    "start_time": "2024-10-22T12:45:41.733Z"
   },
   {
    "duration": 9,
    "start_time": "2024-10-22T12:47:11.510Z"
   },
   {
    "duration": 4097,
    "start_time": "2024-10-22T12:47:26.675Z"
   },
   {
    "duration": 3513,
    "start_time": "2024-10-22T12:48:14.537Z"
   },
   {
    "duration": 42,
    "start_time": "2024-10-22T12:48:18.052Z"
   },
   {
    "duration": 5,
    "start_time": "2024-10-22T12:48:18.096Z"
   },
   {
    "duration": 37,
    "start_time": "2024-10-22T12:48:18.102Z"
   },
   {
    "duration": 4,
    "start_time": "2024-10-22T12:48:18.141Z"
   },
   {
    "duration": 46,
    "start_time": "2024-10-22T12:48:18.146Z"
   },
   {
    "duration": 14,
    "start_time": "2024-10-22T12:48:18.194Z"
   },
   {
    "duration": 10,
    "start_time": "2024-10-22T12:48:18.211Z"
   },
   {
    "duration": 17,
    "start_time": "2024-10-22T12:48:18.223Z"
   },
   {
    "duration": 48,
    "start_time": "2024-10-22T12:48:18.242Z"
   },
   {
    "duration": 22,
    "start_time": "2024-10-22T12:48:18.291Z"
   },
   {
    "duration": 575,
    "start_time": "2024-10-22T12:48:18.315Z"
   },
   {
    "duration": 547,
    "start_time": "2024-10-22T12:54:40.430Z"
   },
   {
    "duration": 253,
    "start_time": "2024-10-22T12:57:57.951Z"
   },
   {
    "duration": 11,
    "start_time": "2024-10-22T12:58:37.091Z"
   },
   {
    "duration": 103,
    "start_time": "2024-10-22T12:59:03.579Z"
   },
   {
    "duration": 135,
    "start_time": "2024-10-22T12:59:08.589Z"
   },
   {
    "duration": 415,
    "start_time": "2024-10-22T12:59:12.665Z"
   },
   {
    "duration": 412,
    "start_time": "2024-10-22T13:02:14.661Z"
   },
   {
    "duration": 82,
    "start_time": "2024-10-22T13:21:30.818Z"
   },
   {
    "duration": 4,
    "start_time": "2024-10-22T13:21:42.600Z"
   },
   {
    "duration": 22,
    "start_time": "2024-10-22T13:21:57.089Z"
   },
   {
    "duration": 17,
    "start_time": "2024-10-22T13:31:42.492Z"
   },
   {
    "duration": 3610,
    "start_time": "2024-10-22T13:33:04.795Z"
   },
   {
    "duration": 43,
    "start_time": "2024-10-22T13:33:08.407Z"
   },
   {
    "duration": 4,
    "start_time": "2024-10-22T13:33:08.452Z"
   },
   {
    "duration": 107,
    "start_time": "2024-10-22T13:33:08.458Z"
   },
   {
    "duration": 3,
    "start_time": "2024-10-22T13:33:08.567Z"
   },
   {
    "duration": 28,
    "start_time": "2024-10-22T13:33:08.572Z"
   },
   {
    "duration": 8,
    "start_time": "2024-10-22T13:33:08.602Z"
   },
   {
    "duration": 11,
    "start_time": "2024-10-22T13:33:08.611Z"
   },
   {
    "duration": 17,
    "start_time": "2024-10-22T13:33:08.624Z"
   },
   {
    "duration": 5,
    "start_time": "2024-10-22T13:33:08.643Z"
   },
   {
    "duration": 28,
    "start_time": "2024-10-22T13:33:08.649Z"
   },
   {
    "duration": 157,
    "start_time": "2024-10-22T13:33:08.678Z"
   },
   {
    "duration": 16,
    "start_time": "2024-10-22T13:33:21.901Z"
   },
   {
    "duration": 17,
    "start_time": "2024-10-22T13:37:59.833Z"
   },
   {
    "duration": 4,
    "start_time": "2024-10-22T13:38:23.138Z"
   },
   {
    "duration": 4,
    "start_time": "2024-10-22T13:38:30.541Z"
   },
   {
    "duration": 17,
    "start_time": "2024-10-22T13:39:55.915Z"
   },
   {
    "duration": 17,
    "start_time": "2024-10-22T13:40:24.369Z"
   },
   {
    "duration": 3795,
    "start_time": "2024-10-22T13:44:35.969Z"
   },
   {
    "duration": 43,
    "start_time": "2024-10-22T13:44:39.766Z"
   },
   {
    "duration": 3,
    "start_time": "2024-10-22T13:44:39.811Z"
   },
   {
    "duration": 35,
    "start_time": "2024-10-22T13:44:39.817Z"
   },
   {
    "duration": 3,
    "start_time": "2024-10-22T13:44:39.853Z"
   },
   {
    "duration": 22,
    "start_time": "2024-10-22T13:44:39.858Z"
   },
   {
    "duration": 8,
    "start_time": "2024-10-22T13:44:39.881Z"
   },
   {
    "duration": 7,
    "start_time": "2024-10-22T13:44:39.891Z"
   },
   {
    "duration": 17,
    "start_time": "2024-10-22T13:44:39.900Z"
   },
   {
    "duration": 5,
    "start_time": "2024-10-22T13:44:39.920Z"
   },
   {
    "duration": 55,
    "start_time": "2024-10-22T13:44:39.927Z"
   },
   {
    "duration": 19,
    "start_time": "2024-10-22T13:44:39.984Z"
   },
   {
    "duration": 1182,
    "start_time": "2024-10-22T13:45:24.739Z"
   },
   {
    "duration": 23086,
    "start_time": "2024-10-22T13:58:32.254Z"
   },
   {
    "duration": 21905,
    "start_time": "2024-10-22T14:07:15.753Z"
   },
   {
    "duration": 24234,
    "start_time": "2024-10-22T14:08:19.984Z"
   },
   {
    "duration": 23894,
    "start_time": "2024-10-22T14:09:39.216Z"
   },
   {
    "duration": 23789,
    "start_time": "2024-10-22T14:11:00.556Z"
   },
   {
    "duration": 24494,
    "start_time": "2024-10-22T14:11:40.588Z"
   },
   {
    "duration": 889,
    "start_time": "2024-10-22T14:32:51.224Z"
   },
   {
    "duration": 6,
    "start_time": "2024-10-22T14:33:01.316Z"
   },
   {
    "duration": 3257,
    "start_time": "2024-10-22T14:34:31.981Z"
   },
   {
    "duration": 18,
    "start_time": "2024-10-22T15:17:37.335Z"
   },
   {
    "duration": 6,
    "start_time": "2024-10-22T15:18:15.827Z"
   },
   {
    "duration": 15,
    "start_time": "2024-10-22T15:18:27.149Z"
   },
   {
    "duration": 15,
    "start_time": "2024-10-22T15:20:56.465Z"
   },
   {
    "duration": 7,
    "start_time": "2024-10-22T15:21:19.459Z"
   },
   {
    "duration": 14,
    "start_time": "2024-10-22T15:21:36.114Z"
   },
   {
    "duration": 3566,
    "start_time": "2024-10-22T15:21:49.481Z"
   },
   {
    "duration": 40,
    "start_time": "2024-10-22T15:21:53.049Z"
   },
   {
    "duration": 4,
    "start_time": "2024-10-22T15:21:53.091Z"
   },
   {
    "duration": 37,
    "start_time": "2024-10-22T15:21:53.097Z"
   },
   {
    "duration": 26,
    "start_time": "2024-10-22T15:21:53.136Z"
   },
   {
    "duration": 20,
    "start_time": "2024-10-22T15:21:53.164Z"
   },
   {
    "duration": 8,
    "start_time": "2024-10-22T15:21:53.185Z"
   },
   {
    "duration": 7,
    "start_time": "2024-10-22T15:21:53.195Z"
   },
   {
    "duration": 16,
    "start_time": "2024-10-22T15:21:53.204Z"
   },
   {
    "duration": 5,
    "start_time": "2024-10-22T15:21:53.222Z"
   },
   {
    "duration": 15,
    "start_time": "2024-10-22T15:21:53.229Z"
   },
   {
    "duration": 3223,
    "start_time": "2024-10-22T15:21:53.245Z"
   },
   {
    "duration": 12,
    "start_time": "2024-10-22T15:21:56.469Z"
   },
   {
    "duration": 21,
    "start_time": "2024-10-22T15:21:56.482Z"
   },
   {
    "duration": 20,
    "start_time": "2024-10-22T15:21:56.504Z"
   },
   {
    "duration": 3612,
    "start_time": "2024-10-22T15:22:34.960Z"
   },
   {
    "duration": 42,
    "start_time": "2024-10-22T15:22:38.576Z"
   },
   {
    "duration": 15,
    "start_time": "2024-10-22T15:22:38.619Z"
   },
   {
    "duration": 34,
    "start_time": "2024-10-22T15:22:38.636Z"
   },
   {
    "duration": 4,
    "start_time": "2024-10-22T15:22:38.672Z"
   },
   {
    "duration": 23,
    "start_time": "2024-10-22T15:22:38.677Z"
   },
   {
    "duration": 8,
    "start_time": "2024-10-22T15:22:38.702Z"
   },
   {
    "duration": 7,
    "start_time": "2024-10-22T15:22:38.711Z"
   },
   {
    "duration": 16,
    "start_time": "2024-10-22T15:22:38.720Z"
   },
   {
    "duration": 16,
    "start_time": "2024-10-22T15:22:38.738Z"
   },
   {
    "duration": 27,
    "start_time": "2024-10-22T15:22:38.756Z"
   },
   {
    "duration": 3224,
    "start_time": "2024-10-22T15:22:38.784Z"
   },
   {
    "duration": 7,
    "start_time": "2024-10-22T15:22:42.010Z"
   },
   {
    "duration": 17,
    "start_time": "2024-10-22T15:22:42.019Z"
   },
   {
    "duration": 11,
    "start_time": "2024-10-22T15:23:07.568Z"
   },
   {
    "duration": 15,
    "start_time": "2024-10-22T15:23:25.014Z"
   },
   {
    "duration": 3511,
    "start_time": "2024-10-22T15:24:20.020Z"
   },
   {
    "duration": 42,
    "start_time": "2024-10-22T15:24:23.532Z"
   },
   {
    "duration": 3,
    "start_time": "2024-10-22T15:24:23.576Z"
   },
   {
    "duration": 67,
    "start_time": "2024-10-22T15:24:23.581Z"
   },
   {
    "duration": 3,
    "start_time": "2024-10-22T15:24:23.650Z"
   },
   {
    "duration": 17,
    "start_time": "2024-10-22T15:24:23.654Z"
   },
   {
    "duration": 8,
    "start_time": "2024-10-22T15:24:23.672Z"
   },
   {
    "duration": 7,
    "start_time": "2024-10-22T15:24:23.682Z"
   },
   {
    "duration": 16,
    "start_time": "2024-10-22T15:24:23.690Z"
   },
   {
    "duration": 5,
    "start_time": "2024-10-22T15:24:23.708Z"
   },
   {
    "duration": 31,
    "start_time": "2024-10-22T15:24:23.714Z"
   },
   {
    "duration": 3201,
    "start_time": "2024-10-22T15:24:23.747Z"
   },
   {
    "duration": 7,
    "start_time": "2024-10-22T15:24:26.949Z"
   },
   {
    "duration": 30,
    "start_time": "2024-10-22T15:24:26.958Z"
   },
   {
    "duration": 4862,
    "start_time": "2024-10-22T19:12:04.274Z"
   },
   {
    "duration": 162,
    "start_time": "2024-10-22T19:12:09.138Z"
   },
   {
    "duration": 4,
    "start_time": "2024-10-22T19:12:09.302Z"
   },
   {
    "duration": 32,
    "start_time": "2024-10-22T19:12:09.307Z"
   },
   {
    "duration": 4,
    "start_time": "2024-10-22T19:12:09.341Z"
   },
   {
    "duration": 28,
    "start_time": "2024-10-22T19:12:09.348Z"
   },
   {
    "duration": 9,
    "start_time": "2024-10-22T19:12:09.378Z"
   },
   {
    "duration": 8,
    "start_time": "2024-10-22T19:12:09.388Z"
   },
   {
    "duration": 15,
    "start_time": "2024-10-22T19:12:09.398Z"
   },
   {
    "duration": 13,
    "start_time": "2024-10-22T19:12:09.414Z"
   },
   {
    "duration": 16,
    "start_time": "2024-10-22T19:12:09.429Z"
   },
   {
    "duration": 2786,
    "start_time": "2024-10-22T19:12:09.446Z"
   },
   {
    "duration": 7,
    "start_time": "2024-10-22T19:12:12.234Z"
   },
   {
    "duration": 13,
    "start_time": "2024-10-22T19:12:12.244Z"
   },
   {
    "duration": 322,
    "start_time": "2024-10-22T19:27:10.045Z"
   },
   {
    "duration": 1142,
    "start_time": "2024-10-22T19:28:12.655Z"
   },
   {
    "duration": 1183,
    "start_time": "2024-10-22T19:39:39.436Z"
   },
   {
    "duration": 1213,
    "start_time": "2024-10-22T19:40:00.721Z"
   },
   {
    "duration": 1196,
    "start_time": "2024-10-22T19:42:16.684Z"
   },
   {
    "duration": 1209,
    "start_time": "2024-10-22T19:42:30.892Z"
   },
   {
    "duration": 1269,
    "start_time": "2024-10-22T19:42:47.825Z"
   },
   {
    "duration": 1252,
    "start_time": "2024-10-22T19:43:28.875Z"
   },
   {
    "duration": 1264,
    "start_time": "2024-10-22T19:43:47.151Z"
   },
   {
    "duration": 1276,
    "start_time": "2024-10-22T19:44:11.361Z"
   },
   {
    "duration": 1324,
    "start_time": "2024-10-22T19:51:29.531Z"
   },
   {
    "duration": 1151,
    "start_time": "2024-10-22T19:51:41.842Z"
   },
   {
    "duration": 1259,
    "start_time": "2024-10-22T19:54:10.541Z"
   },
   {
    "duration": 497,
    "start_time": "2024-10-22T19:56:21.820Z"
   },
   {
    "duration": 2944,
    "start_time": "2024-10-22T19:56:54.980Z"
   },
   {
    "duration": 375,
    "start_time": "2024-10-22T19:57:08.909Z"
   },
   {
    "duration": 95,
    "start_time": "2024-10-22T20:01:45.905Z"
   },
   {
    "duration": 174,
    "start_time": "2024-10-22T20:01:53.984Z"
   },
   {
    "duration": 217,
    "start_time": "2024-10-22T20:02:13.329Z"
   },
   {
    "duration": 75,
    "start_time": "2024-10-22T20:02:59.421Z"
   },
   {
    "duration": 113,
    "start_time": "2024-10-22T20:03:09.555Z"
   },
   {
    "duration": 245,
    "start_time": "2024-10-22T20:03:28.305Z"
   },
   {
    "duration": 885,
    "start_time": "2024-10-22T20:03:55.057Z"
   },
   {
    "duration": 8,
    "start_time": "2024-10-22T20:05:38.433Z"
   },
   {
    "duration": 3617,
    "start_time": "2024-10-22T20:06:08.636Z"
   },
   {
    "duration": 38,
    "start_time": "2024-10-22T20:06:12.254Z"
   },
   {
    "duration": 3,
    "start_time": "2024-10-22T20:06:12.294Z"
   },
   {
    "duration": 31,
    "start_time": "2024-10-22T20:06:12.298Z"
   },
   {
    "duration": 3,
    "start_time": "2024-10-22T20:06:12.331Z"
   },
   {
    "duration": 13,
    "start_time": "2024-10-22T20:06:12.335Z"
   },
   {
    "duration": 9,
    "start_time": "2024-10-22T20:06:12.349Z"
   },
   {
    "duration": 10,
    "start_time": "2024-10-22T20:06:12.359Z"
   },
   {
    "duration": 26,
    "start_time": "2024-10-22T20:06:12.370Z"
   },
   {
    "duration": 5,
    "start_time": "2024-10-22T20:06:12.397Z"
   },
   {
    "duration": 29,
    "start_time": "2024-10-22T20:06:12.403Z"
   },
   {
    "duration": 2647,
    "start_time": "2024-10-22T20:06:12.433Z"
   },
   {
    "duration": 7,
    "start_time": "2024-10-22T20:06:15.081Z"
   },
   {
    "duration": 63,
    "start_time": "2024-10-22T20:06:15.090Z"
   },
   {
    "duration": 378,
    "start_time": "2024-10-22T20:06:15.154Z"
   },
   {
    "duration": 336,
    "start_time": "2024-10-22T20:06:15.534Z"
   },
   {
    "duration": 217,
    "start_time": "2024-10-22T20:06:33.462Z"
   },
   {
    "duration": 348,
    "start_time": "2024-10-22T20:07:50.757Z"
   },
   {
    "duration": 333,
    "start_time": "2024-10-22T20:09:46.777Z"
   },
   {
    "duration": 325,
    "start_time": "2024-10-22T20:09:56.294Z"
   },
   {
    "duration": 354,
    "start_time": "2024-10-22T20:10:51.782Z"
   },
   {
    "duration": 331,
    "start_time": "2024-10-22T20:12:40.278Z"
   },
   {
    "duration": 342,
    "start_time": "2024-10-22T20:12:59.563Z"
   },
   {
    "duration": 332,
    "start_time": "2024-10-22T20:13:36.346Z"
   },
   {
    "duration": 364,
    "start_time": "2024-10-22T20:15:20.064Z"
   },
   {
    "duration": 340,
    "start_time": "2024-10-22T20:15:35.540Z"
   },
   {
    "duration": 4725,
    "start_time": "2024-10-23T18:14:02.518Z"
   },
   {
    "duration": 105,
    "start_time": "2024-10-23T18:14:07.245Z"
   },
   {
    "duration": 4,
    "start_time": "2024-10-23T18:14:07.352Z"
   },
   {
    "duration": 118,
    "start_time": "2024-10-23T18:14:07.358Z"
   },
   {
    "duration": 13,
    "start_time": "2024-10-23T18:14:07.478Z"
   },
   {
    "duration": 56,
    "start_time": "2024-10-23T18:14:07.492Z"
   },
   {
    "duration": 18,
    "start_time": "2024-10-23T18:14:07.549Z"
   },
   {
    "duration": 38,
    "start_time": "2024-10-23T18:14:07.568Z"
   },
   {
    "duration": 48,
    "start_time": "2024-10-23T18:14:07.608Z"
   },
   {
    "duration": 27,
    "start_time": "2024-10-23T18:14:07.658Z"
   },
   {
    "duration": 66,
    "start_time": "2024-10-23T18:14:07.687Z"
   },
   {
    "duration": 3279,
    "start_time": "2024-10-23T18:14:07.754Z"
   },
   {
    "duration": 6,
    "start_time": "2024-10-23T18:14:11.035Z"
   },
   {
    "duration": 115,
    "start_time": "2024-10-23T18:14:11.044Z"
   },
   {
    "duration": 399,
    "start_time": "2024-10-23T18:14:11.160Z"
   },
   {
    "duration": 443,
    "start_time": "2024-10-23T18:14:11.561Z"
   },
   {
    "duration": 109,
    "start_time": "2024-10-23T18:15:58.377Z"
   },
   {
    "duration": 385,
    "start_time": "2024-10-23T18:16:09.730Z"
   },
   {
    "duration": 409,
    "start_time": "2024-10-23T18:21:08.900Z"
   },
   {
    "duration": 3468,
    "start_time": "2024-10-23T18:27:12.509Z"
   },
   {
    "duration": 1420,
    "start_time": "2024-10-23T18:29:27.246Z"
   },
   {
    "duration": 2100,
    "start_time": "2024-10-23T18:30:32.364Z"
   },
   {
    "duration": 286,
    "start_time": "2024-10-23T18:30:49.619Z"
   },
   {
    "duration": 2204,
    "start_time": "2024-10-23T18:31:37.505Z"
   },
   {
    "duration": 3420,
    "start_time": "2024-10-23T18:33:56.235Z"
   },
   {
    "duration": 43,
    "start_time": "2024-10-23T18:33:59.658Z"
   },
   {
    "duration": 4,
    "start_time": "2024-10-23T18:33:59.702Z"
   },
   {
    "duration": 35,
    "start_time": "2024-10-23T18:33:59.707Z"
   },
   {
    "duration": 3,
    "start_time": "2024-10-23T18:33:59.744Z"
   },
   {
    "duration": 17,
    "start_time": "2024-10-23T18:33:59.748Z"
   },
   {
    "duration": 8,
    "start_time": "2024-10-23T18:33:59.766Z"
   },
   {
    "duration": 10,
    "start_time": "2024-10-23T18:33:59.775Z"
   },
   {
    "duration": 35,
    "start_time": "2024-10-23T18:33:59.787Z"
   },
   {
    "duration": 5,
    "start_time": "2024-10-23T18:33:59.823Z"
   },
   {
    "duration": 18,
    "start_time": "2024-10-23T18:33:59.829Z"
   },
   {
    "duration": 3160,
    "start_time": "2024-10-23T18:33:59.849Z"
   },
   {
    "duration": 6,
    "start_time": "2024-10-23T18:34:03.011Z"
   },
   {
    "duration": 37,
    "start_time": "2024-10-23T18:34:03.020Z"
   },
   {
    "duration": 446,
    "start_time": "2024-10-23T18:34:03.058Z"
   },
   {
    "duration": 332,
    "start_time": "2024-10-23T18:34:03.505Z"
   },
   {
    "duration": 275,
    "start_time": "2024-10-23T18:34:03.839Z"
   },
   {
    "duration": 2096,
    "start_time": "2024-10-23T18:34:04.121Z"
   },
   {
    "duration": 330,
    "start_time": "2024-10-23T18:34:06.222Z"
   },
   {
    "duration": 2870,
    "start_time": "2024-10-23T18:35:41.897Z"
   },
   {
    "duration": 2954,
    "start_time": "2024-10-23T18:36:23.636Z"
   },
   {
    "duration": 346,
    "start_time": "2024-10-23T18:36:52.889Z"
   },
   {
    "duration": 5792,
    "start_time": "2024-10-23T18:39:56.316Z"
   },
   {
    "duration": 3686,
    "start_time": "2024-10-23T18:41:14.583Z"
   },
   {
    "duration": 96,
    "start_time": "2024-10-23T18:41:18.271Z"
   },
   {
    "duration": 4,
    "start_time": "2024-10-23T18:41:18.368Z"
   },
   {
    "duration": 34,
    "start_time": "2024-10-23T18:41:18.373Z"
   },
   {
    "duration": 3,
    "start_time": "2024-10-23T18:41:18.409Z"
   },
   {
    "duration": 30,
    "start_time": "2024-10-23T18:41:18.413Z"
   },
   {
    "duration": 8,
    "start_time": "2024-10-23T18:41:18.444Z"
   },
   {
    "duration": 7,
    "start_time": "2024-10-23T18:41:18.453Z"
   },
   {
    "duration": 15,
    "start_time": "2024-10-23T18:41:18.462Z"
   },
   {
    "duration": 9,
    "start_time": "2024-10-23T18:41:18.478Z"
   },
   {
    "duration": 29,
    "start_time": "2024-10-23T18:41:18.488Z"
   },
   {
    "duration": 3043,
    "start_time": "2024-10-23T18:41:18.519Z"
   },
   {
    "duration": 7,
    "start_time": "2024-10-23T18:41:21.563Z"
   },
   {
    "duration": 14,
    "start_time": "2024-10-23T18:41:21.572Z"
   },
   {
    "duration": 419,
    "start_time": "2024-10-23T18:41:21.587Z"
   },
   {
    "duration": 324,
    "start_time": "2024-10-23T18:41:22.007Z"
   },
   {
    "duration": 278,
    "start_time": "2024-10-23T18:41:22.333Z"
   },
   {
    "duration": 2064,
    "start_time": "2024-10-23T18:41:22.620Z"
   },
   {
    "duration": 355,
    "start_time": "2024-10-23T18:41:24.685Z"
   },
   {
    "duration": 5608,
    "start_time": "2024-10-23T18:41:25.041Z"
   },
   {
    "duration": 169,
    "start_time": "2024-10-23T18:47:00.808Z"
   },
   {
    "duration": 179,
    "start_time": "2024-10-23T18:47:24.951Z"
   },
   {
    "duration": 175,
    "start_time": "2024-10-23T18:47:43.930Z"
   },
   {
    "duration": 357,
    "start_time": "2024-10-23T18:48:19.466Z"
   },
   {
    "duration": 178,
    "start_time": "2024-10-23T18:48:55.431Z"
   },
   {
    "duration": 518,
    "start_time": "2024-10-23T18:52:50.332Z"
   },
   {
    "duration": 530,
    "start_time": "2024-10-23T18:53:23.971Z"
   },
   {
    "duration": 105,
    "start_time": "2024-10-23T18:54:49.504Z"
   },
   {
    "duration": 10,
    "start_time": "2024-10-23T18:54:57.417Z"
   },
   {
    "duration": 5,
    "start_time": "2024-10-23T18:55:14.716Z"
   },
   {
    "duration": 309,
    "start_time": "2024-10-23T18:58:11.816Z"
   },
   {
    "duration": 279,
    "start_time": "2024-10-23T18:59:17.753Z"
   },
   {
    "duration": 269,
    "start_time": "2024-10-23T19:01:58.821Z"
   },
   {
    "duration": 260,
    "start_time": "2024-10-23T19:06:07.433Z"
   },
   {
    "duration": 740,
    "start_time": "2024-10-23T19:42:49.432Z"
   },
   {
    "duration": 809,
    "start_time": "2024-10-23T19:43:43.665Z"
   },
   {
    "duration": 722,
    "start_time": "2024-10-23T19:43:55.446Z"
   },
   {
    "duration": 66,
    "start_time": "2024-10-23T19:44:38.546Z"
   },
   {
    "duration": 2747,
    "start_time": "2024-10-23T19:50:54.798Z"
   },
   {
    "duration": 2580,
    "start_time": "2024-10-23T19:52:09.589Z"
   },
   {
    "duration": 2764,
    "start_time": "2024-10-23T19:52:38.698Z"
   },
   {
    "duration": 3382,
    "start_time": "2024-10-23T19:56:39.887Z"
   },
   {
    "duration": 42,
    "start_time": "2024-10-23T19:56:43.271Z"
   },
   {
    "duration": 3,
    "start_time": "2024-10-23T19:56:43.315Z"
   },
   {
    "duration": 99,
    "start_time": "2024-10-23T19:56:43.319Z"
   },
   {
    "duration": 3,
    "start_time": "2024-10-23T19:56:43.420Z"
   },
   {
    "duration": 20,
    "start_time": "2024-10-23T19:56:43.425Z"
   },
   {
    "duration": 7,
    "start_time": "2024-10-23T19:56:43.447Z"
   },
   {
    "duration": 6,
    "start_time": "2024-10-23T19:56:43.456Z"
   },
   {
    "duration": 15,
    "start_time": "2024-10-23T19:56:43.463Z"
   },
   {
    "duration": 8,
    "start_time": "2024-10-23T19:56:43.480Z"
   },
   {
    "duration": 13,
    "start_time": "2024-10-23T19:56:43.489Z"
   },
   {
    "duration": 3124,
    "start_time": "2024-10-23T19:56:43.521Z"
   },
   {
    "duration": 7,
    "start_time": "2024-10-23T19:56:46.647Z"
   },
   {
    "duration": 23,
    "start_time": "2024-10-23T19:56:46.656Z"
   },
   {
    "duration": 416,
    "start_time": "2024-10-23T19:56:46.680Z"
   },
   {
    "duration": 329,
    "start_time": "2024-10-23T19:56:47.098Z"
   },
   {
    "duration": 287,
    "start_time": "2024-10-23T19:56:47.428Z"
   },
   {
    "duration": 2035,
    "start_time": "2024-10-23T19:56:47.721Z"
   },
   {
    "duration": 302,
    "start_time": "2024-10-23T19:56:49.757Z"
   },
   {
    "duration": 5647,
    "start_time": "2024-10-23T19:56:50.060Z"
   },
   {
    "duration": 183,
    "start_time": "2024-10-23T19:56:55.709Z"
   },
   {
    "duration": 791,
    "start_time": "2024-10-23T19:56:55.893Z"
   },
   {
    "duration": 316,
    "start_time": "2024-10-23T19:56:56.685Z"
   },
   {
    "duration": 282,
    "start_time": "2024-10-23T19:56:57.003Z"
   },
   {
    "duration": 284,
    "start_time": "2024-10-23T19:56:57.286Z"
   },
   {
    "duration": 780,
    "start_time": "2024-10-23T19:56:57.571Z"
   },
   {
    "duration": 2911,
    "start_time": "2024-10-23T19:56:58.353Z"
   },
   {
    "duration": 13,
    "start_time": "2024-10-23T19:59:07.803Z"
   },
   {
    "duration": 26,
    "start_time": "2024-10-23T20:00:02.135Z"
   },
   {
    "duration": 906,
    "start_time": "2024-10-23T20:05:35.819Z"
   },
   {
    "duration": 982,
    "start_time": "2024-10-23T20:10:40.931Z"
   },
   {
    "duration": 3389,
    "start_time": "2024-10-23T20:11:43.075Z"
   },
   {
    "duration": 43,
    "start_time": "2024-10-23T20:11:46.466Z"
   },
   {
    "duration": 3,
    "start_time": "2024-10-23T20:11:46.511Z"
   },
   {
    "duration": 51,
    "start_time": "2024-10-23T20:11:46.516Z"
   },
   {
    "duration": 6,
    "start_time": "2024-10-23T20:11:46.569Z"
   },
   {
    "duration": 32,
    "start_time": "2024-10-23T20:11:46.577Z"
   },
   {
    "duration": 16,
    "start_time": "2024-10-23T20:11:46.610Z"
   },
   {
    "duration": 33,
    "start_time": "2024-10-23T20:11:46.627Z"
   },
   {
    "duration": 26,
    "start_time": "2024-10-23T20:11:46.661Z"
   },
   {
    "duration": 22,
    "start_time": "2024-10-23T20:11:46.689Z"
   },
   {
    "duration": 35,
    "start_time": "2024-10-23T20:11:46.713Z"
   },
   {
    "duration": 32,
    "start_time": "2024-10-23T20:11:46.749Z"
   },
   {
    "duration": 3063,
    "start_time": "2024-10-23T20:11:46.782Z"
   },
   {
    "duration": 8,
    "start_time": "2024-10-23T20:11:49.847Z"
   },
   {
    "duration": 29,
    "start_time": "2024-10-23T20:11:49.857Z"
   },
   {
    "duration": 422,
    "start_time": "2024-10-23T20:11:49.887Z"
   },
   {
    "duration": 319,
    "start_time": "2024-10-23T20:11:50.311Z"
   },
   {
    "duration": 277,
    "start_time": "2024-10-23T20:11:50.632Z"
   },
   {
    "duration": 2070,
    "start_time": "2024-10-23T20:11:50.911Z"
   },
   {
    "duration": 341,
    "start_time": "2024-10-23T20:11:52.982Z"
   },
   {
    "duration": 5481,
    "start_time": "2024-10-23T20:11:53.324Z"
   },
   {
    "duration": 184,
    "start_time": "2024-10-23T20:11:58.806Z"
   },
   {
    "duration": 742,
    "start_time": "2024-10-23T20:11:58.991Z"
   },
   {
    "duration": 272,
    "start_time": "2024-10-23T20:11:59.735Z"
   },
   {
    "duration": 281,
    "start_time": "2024-10-23T20:12:00.008Z"
   },
   {
    "duration": 294,
    "start_time": "2024-10-23T20:12:00.291Z"
   },
   {
    "duration": 721,
    "start_time": "2024-10-23T20:12:00.586Z"
   },
   {
    "duration": 2872,
    "start_time": "2024-10-23T20:12:01.309Z"
   },
   {
    "duration": 3345,
    "start_time": "2024-10-23T20:16:38.408Z"
   },
   {
    "duration": 44,
    "start_time": "2024-10-23T20:16:41.754Z"
   },
   {
    "duration": 5,
    "start_time": "2024-10-23T20:16:41.799Z"
   },
   {
    "duration": 34,
    "start_time": "2024-10-23T20:16:41.805Z"
   },
   {
    "duration": 30,
    "start_time": "2024-10-23T20:16:41.841Z"
   },
   {
    "duration": 3,
    "start_time": "2024-10-23T20:16:41.873Z"
   },
   {
    "duration": 44,
    "start_time": "2024-10-23T20:16:41.877Z"
   },
   {
    "duration": 7,
    "start_time": "2024-10-23T20:16:41.923Z"
   },
   {
    "duration": 16,
    "start_time": "2024-10-23T20:16:41.931Z"
   },
   {
    "duration": 33,
    "start_time": "2024-10-23T20:16:41.949Z"
   },
   {
    "duration": 9,
    "start_time": "2024-10-23T20:16:41.983Z"
   },
   {
    "duration": 15,
    "start_time": "2024-10-23T20:16:41.993Z"
   },
   {
    "duration": 27,
    "start_time": "2024-10-23T20:16:42.010Z"
   },
   {
    "duration": 3043,
    "start_time": "2024-10-23T20:16:42.040Z"
   },
   {
    "duration": 7,
    "start_time": "2024-10-23T20:16:45.085Z"
   },
   {
    "duration": 59,
    "start_time": "2024-10-23T20:16:45.094Z"
   },
   {
    "duration": 441,
    "start_time": "2024-10-23T20:16:45.155Z"
   },
   {
    "duration": 300,
    "start_time": "2024-10-23T20:16:45.598Z"
   },
   {
    "duration": 308,
    "start_time": "2024-10-23T20:16:45.899Z"
   },
   {
    "duration": 2106,
    "start_time": "2024-10-23T20:16:46.208Z"
   },
   {
    "duration": 320,
    "start_time": "2024-10-23T20:16:48.315Z"
   },
   {
    "duration": 5586,
    "start_time": "2024-10-23T20:16:48.636Z"
   },
   {
    "duration": 175,
    "start_time": "2024-10-23T20:16:54.223Z"
   },
   {
    "duration": 797,
    "start_time": "2024-10-23T20:16:54.400Z"
   },
   {
    "duration": 312,
    "start_time": "2024-10-23T20:16:55.198Z"
   },
   {
    "duration": 277,
    "start_time": "2024-10-23T20:16:55.512Z"
   },
   {
    "duration": 286,
    "start_time": "2024-10-23T20:16:55.790Z"
   },
   {
    "duration": 715,
    "start_time": "2024-10-23T20:16:56.077Z"
   },
   {
    "duration": 2831,
    "start_time": "2024-10-23T20:16:56.794Z"
   },
   {
    "duration": 3373,
    "start_time": "2024-10-23T20:17:03.592Z"
   },
   {
    "duration": 43,
    "start_time": "2024-10-23T20:17:06.967Z"
   },
   {
    "duration": 4,
    "start_time": "2024-10-23T20:17:07.011Z"
   },
   {
    "duration": 40,
    "start_time": "2024-10-23T20:17:07.017Z"
   },
   {
    "duration": 510,
    "start_time": "2024-10-23T20:17:07.058Z"
   },
   {
    "duration": 30,
    "start_time": "2024-10-23T20:17:07.569Z"
   },
   {
    "duration": 4,
    "start_time": "2024-10-23T20:17:07.600Z"
   },
   {
    "duration": 25,
    "start_time": "2024-10-23T20:17:07.620Z"
   },
   {
    "duration": 8,
    "start_time": "2024-10-23T20:17:07.646Z"
   },
   {
    "duration": 15,
    "start_time": "2024-10-23T20:17:07.657Z"
   },
   {
    "duration": 20,
    "start_time": "2024-10-23T20:17:07.674Z"
   },
   {
    "duration": 21,
    "start_time": "2024-10-23T20:17:07.695Z"
   },
   {
    "duration": 57,
    "start_time": "2024-10-23T20:17:07.718Z"
   },
   {
    "duration": 36,
    "start_time": "2024-10-23T20:17:07.777Z"
   },
   {
    "duration": 2931,
    "start_time": "2024-10-23T20:17:07.815Z"
   },
   {
    "duration": 6,
    "start_time": "2024-10-23T20:17:10.748Z"
   },
   {
    "duration": 18,
    "start_time": "2024-10-23T20:17:10.755Z"
   },
   {
    "duration": 407,
    "start_time": "2024-10-23T20:17:10.775Z"
   },
   {
    "duration": 309,
    "start_time": "2024-10-23T20:17:11.184Z"
   },
   {
    "duration": 303,
    "start_time": "2024-10-23T20:17:11.494Z"
   },
   {
    "duration": 2045,
    "start_time": "2024-10-23T20:17:11.799Z"
   },
   {
    "duration": 303,
    "start_time": "2024-10-23T20:17:13.846Z"
   },
   {
    "duration": 5624,
    "start_time": "2024-10-23T20:17:14.150Z"
   },
   {
    "duration": 184,
    "start_time": "2024-10-23T20:17:19.776Z"
   },
   {
    "duration": 786,
    "start_time": "2024-10-23T20:17:19.961Z"
   },
   {
    "duration": 277,
    "start_time": "2024-10-23T20:17:20.749Z"
   },
   {
    "duration": 263,
    "start_time": "2024-10-23T20:17:21.027Z"
   },
   {
    "duration": 296,
    "start_time": "2024-10-23T20:17:21.293Z"
   },
   {
    "duration": 730,
    "start_time": "2024-10-23T20:17:21.590Z"
   },
   {
    "duration": 2841,
    "start_time": "2024-10-23T20:17:22.322Z"
   },
   {
    "duration": 2639,
    "start_time": "2024-10-23T20:22:22.861Z"
   },
   {
    "duration": 2803,
    "start_time": "2024-10-23T20:22:49.422Z"
   },
   {
    "duration": 2830,
    "start_time": "2024-10-23T20:23:05.868Z"
   },
   {
    "duration": 2642,
    "start_time": "2024-10-23T20:28:22.901Z"
   },
   {
    "duration": 2636,
    "start_time": "2024-10-23T20:28:50.710Z"
   },
   {
    "duration": 5031,
    "start_time": "2024-10-25T07:33:47.299Z"
   },
   {
    "duration": 167,
    "start_time": "2024-10-25T07:33:52.332Z"
   },
   {
    "duration": 3,
    "start_time": "2024-10-25T07:33:52.500Z"
   },
   {
    "duration": 40,
    "start_time": "2024-10-25T07:33:52.505Z"
   },
   {
    "duration": 3,
    "start_time": "2024-10-25T07:33:52.547Z"
   },
   {
    "duration": 40,
    "start_time": "2024-10-25T07:33:52.552Z"
   },
   {
    "duration": 7,
    "start_time": "2024-10-25T07:33:52.593Z"
   },
   {
    "duration": 15,
    "start_time": "2024-10-25T07:33:52.602Z"
   },
   {
    "duration": 48,
    "start_time": "2024-10-25T07:33:52.619Z"
   },
   {
    "duration": 26,
    "start_time": "2024-10-25T07:33:52.668Z"
   },
   {
    "duration": 17,
    "start_time": "2024-10-25T07:33:52.695Z"
   },
   {
    "duration": 42,
    "start_time": "2024-10-25T07:33:52.713Z"
   },
   {
    "duration": 2765,
    "start_time": "2024-10-25T07:33:52.757Z"
   },
   {
    "duration": 6,
    "start_time": "2024-10-25T07:33:55.525Z"
   },
   {
    "duration": 30,
    "start_time": "2024-10-25T07:33:55.533Z"
   },
   {
    "duration": 393,
    "start_time": "2024-10-25T07:33:55.564Z"
   },
   {
    "duration": 329,
    "start_time": "2024-10-25T07:33:55.959Z"
   },
   {
    "duration": 322,
    "start_time": "2024-10-25T07:33:56.290Z"
   },
   {
    "duration": 1856,
    "start_time": "2024-10-25T07:33:56.613Z"
   },
   {
    "duration": 343,
    "start_time": "2024-10-25T07:33:58.470Z"
   },
   {
    "duration": 4882,
    "start_time": "2024-10-25T07:33:58.815Z"
   },
   {
    "duration": 179,
    "start_time": "2024-10-25T07:34:03.698Z"
   },
   {
    "duration": 699,
    "start_time": "2024-10-25T07:34:03.878Z"
   },
   {
    "duration": 308,
    "start_time": "2024-10-25T07:34:04.578Z"
   },
   {
    "duration": 296,
    "start_time": "2024-10-25T07:34:04.887Z"
   },
   {
    "duration": 289,
    "start_time": "2024-10-25T07:34:05.184Z"
   },
   {
    "duration": 688,
    "start_time": "2024-10-25T07:34:05.475Z"
   },
   {
    "duration": 2579,
    "start_time": "2024-10-25T07:34:06.166Z"
   },
   {
    "duration": 3723,
    "start_time": "2024-10-25T07:41:32.207Z"
   },
   {
    "duration": 40,
    "start_time": "2024-10-25T07:41:35.932Z"
   },
   {
    "duration": 4,
    "start_time": "2024-10-25T07:41:35.973Z"
   },
   {
    "duration": 46,
    "start_time": "2024-10-25T07:41:35.979Z"
   },
   {
    "duration": 3,
    "start_time": "2024-10-25T07:41:36.027Z"
   },
   {
    "duration": 55,
    "start_time": "2024-10-25T07:41:36.032Z"
   },
   {
    "duration": 10,
    "start_time": "2024-10-25T07:41:36.089Z"
   },
   {
    "duration": 13,
    "start_time": "2024-10-25T07:41:36.101Z"
   },
   {
    "duration": 1718,
    "start_time": "2024-10-25T07:41:36.116Z"
   },
   {
    "duration": 6,
    "start_time": "2024-10-25T07:41:37.835Z"
   },
   {
    "duration": 43,
    "start_time": "2024-10-25T07:41:37.842Z"
   },
   {
    "duration": 400,
    "start_time": "2024-10-25T07:41:37.886Z"
   },
   {
    "duration": 290,
    "start_time": "2024-10-25T07:41:38.288Z"
   },
   {
    "duration": 323,
    "start_time": "2024-10-25T07:41:38.580Z"
   },
   {
    "duration": 1818,
    "start_time": "2024-10-25T07:41:38.904Z"
   },
   {
    "duration": 334,
    "start_time": "2024-10-25T07:41:40.724Z"
   },
   {
    "duration": 4794,
    "start_time": "2024-10-25T07:41:41.060Z"
   },
   {
    "duration": 200,
    "start_time": "2024-10-25T07:41:45.856Z"
   },
   {
    "duration": 480,
    "start_time": "2024-10-25T07:41:46.057Z"
   },
   {
    "duration": 274,
    "start_time": "2024-10-25T07:41:46.539Z"
   },
   {
    "duration": 290,
    "start_time": "2024-10-25T07:41:46.815Z"
   },
   {
    "duration": 489,
    "start_time": "2024-10-25T07:41:47.111Z"
   },
   {
    "duration": 662,
    "start_time": "2024-10-25T07:41:47.612Z"
   },
   {
    "duration": 1541,
    "start_time": "2024-10-25T07:41:48.275Z"
   },
   {
    "duration": 11,
    "start_time": "2024-10-25T07:48:34.674Z"
   },
   {
    "duration": 16,
    "start_time": "2024-10-25T07:48:44.227Z"
   },
   {
    "duration": 10,
    "start_time": "2024-10-25T07:50:48.892Z"
   },
   {
    "duration": 5,
    "start_time": "2024-10-25T08:01:51.975Z"
   },
   {
    "duration": 231,
    "start_time": "2024-10-25T08:19:21.371Z"
   },
   {
    "duration": 3722,
    "start_time": "2024-10-25T08:25:21.442Z"
   },
   {
    "duration": 41,
    "start_time": "2024-10-25T08:25:25.166Z"
   },
   {
    "duration": 4,
    "start_time": "2024-10-25T08:25:25.209Z"
   },
   {
    "duration": 37,
    "start_time": "2024-10-25T08:25:25.215Z"
   },
   {
    "duration": 4,
    "start_time": "2024-10-25T08:25:25.253Z"
   },
   {
    "duration": 20,
    "start_time": "2024-10-25T08:25:25.258Z"
   },
   {
    "duration": 5,
    "start_time": "2024-10-25T08:25:25.279Z"
   },
   {
    "duration": 32,
    "start_time": "2024-10-25T08:25:25.285Z"
   },
   {
    "duration": 1748,
    "start_time": "2024-10-25T08:25:25.318Z"
   },
   {
    "duration": 6,
    "start_time": "2024-10-25T08:25:27.069Z"
   },
   {
    "duration": 18,
    "start_time": "2024-10-25T08:25:27.077Z"
   },
   {
    "duration": 389,
    "start_time": "2024-10-25T08:25:27.096Z"
   },
   {
    "duration": 286,
    "start_time": "2024-10-25T08:25:27.487Z"
   },
   {
    "duration": 285,
    "start_time": "2024-10-25T08:25:27.774Z"
   },
   {
    "duration": 1857,
    "start_time": "2024-10-25T08:25:28.060Z"
   },
   {
    "duration": 312,
    "start_time": "2024-10-25T08:25:29.919Z"
   },
   {
    "duration": 4837,
    "start_time": "2024-10-25T08:25:30.232Z"
   },
   {
    "duration": 184,
    "start_time": "2024-10-25T08:25:35.071Z"
   },
   {
    "duration": 466,
    "start_time": "2024-10-25T08:25:35.257Z"
   },
   {
    "duration": 279,
    "start_time": "2024-10-25T08:25:35.724Z"
   },
   {
    "duration": 15,
    "start_time": "2024-10-25T08:25:36.005Z"
   },
   {
    "duration": 335,
    "start_time": "2024-10-25T08:25:36.021Z"
   },
   {
    "duration": 474,
    "start_time": "2024-10-25T08:25:36.358Z"
   },
   {
    "duration": 664,
    "start_time": "2024-10-25T08:25:36.833Z"
   },
   {
    "duration": 1495,
    "start_time": "2024-10-25T08:25:37.498Z"
   },
   {
    "duration": 57,
    "start_time": "2024-10-25T08:25:38.994Z"
   },
   {
    "duration": 179,
    "start_time": "2024-10-25T08:25:53.736Z"
   },
   {
    "duration": 12,
    "start_time": "2024-10-25T08:27:02.277Z"
   },
   {
    "duration": 11,
    "start_time": "2024-10-25T08:28:03.414Z"
   },
   {
    "duration": 13,
    "start_time": "2024-10-25T08:42:38.708Z"
   },
   {
    "duration": 12,
    "start_time": "2024-10-25T09:19:13.243Z"
   },
   {
    "duration": 9,
    "start_time": "2024-10-25T09:19:25.528Z"
   },
   {
    "duration": 5,
    "start_time": "2024-10-25T09:19:32.673Z"
   },
   {
    "duration": 14,
    "start_time": "2024-10-25T10:20:34.923Z"
   },
   {
    "duration": 15,
    "start_time": "2024-10-25T10:20:48.939Z"
   },
   {
    "duration": 11,
    "start_time": "2024-10-25T10:21:17.830Z"
   },
   {
    "duration": 12,
    "start_time": "2024-10-25T10:21:50.350Z"
   },
   {
    "duration": 16,
    "start_time": "2024-10-25T10:22:13.769Z"
   },
   {
    "duration": 19,
    "start_time": "2024-10-25T10:23:32.473Z"
   },
   {
    "duration": 5,
    "start_time": "2024-10-25T11:24:07.718Z"
   },
   {
    "duration": 16,
    "start_time": "2024-10-25T11:27:15.824Z"
   },
   {
    "duration": 6,
    "start_time": "2024-10-25T11:27:52.210Z"
   },
   {
    "duration": 17,
    "start_time": "2024-10-25T11:29:18.120Z"
   },
   {
    "duration": 3706,
    "start_time": "2024-10-25T11:30:17.723Z"
   },
   {
    "duration": 40,
    "start_time": "2024-10-25T11:30:21.431Z"
   },
   {
    "duration": 3,
    "start_time": "2024-10-25T11:30:21.472Z"
   },
   {
    "duration": 30,
    "start_time": "2024-10-25T11:30:21.477Z"
   },
   {
    "duration": 3,
    "start_time": "2024-10-25T11:30:21.508Z"
   },
   {
    "duration": 16,
    "start_time": "2024-10-25T11:30:21.512Z"
   },
   {
    "duration": 4,
    "start_time": "2024-10-25T11:30:21.529Z"
   },
   {
    "duration": 11,
    "start_time": "2024-10-25T11:30:21.534Z"
   },
   {
    "duration": 1730,
    "start_time": "2024-10-25T11:30:21.547Z"
   },
   {
    "duration": 5,
    "start_time": "2024-10-25T11:30:23.280Z"
   },
   {
    "duration": 15,
    "start_time": "2024-10-25T11:30:23.286Z"
   },
   {
    "duration": 411,
    "start_time": "2024-10-25T11:30:23.312Z"
   },
   {
    "duration": 253,
    "start_time": "2024-10-25T11:30:23.724Z"
   },
   {
    "duration": 316,
    "start_time": "2024-10-25T11:30:23.978Z"
   },
   {
    "duration": 1856,
    "start_time": "2024-10-25T11:30:24.296Z"
   },
   {
    "duration": 300,
    "start_time": "2024-10-25T11:30:26.153Z"
   },
   {
    "duration": 4829,
    "start_time": "2024-10-25T11:30:26.455Z"
   },
   {
    "duration": 176,
    "start_time": "2024-10-25T11:30:31.285Z"
   },
   {
    "duration": 462,
    "start_time": "2024-10-25T11:30:31.463Z"
   },
   {
    "duration": 285,
    "start_time": "2024-10-25T11:30:31.927Z"
   },
   {
    "duration": 11,
    "start_time": "2024-10-25T11:30:32.213Z"
   },
   {
    "duration": 262,
    "start_time": "2024-10-25T11:30:32.225Z"
   },
   {
    "duration": 498,
    "start_time": "2024-10-25T11:30:32.489Z"
   },
   {
    "duration": 659,
    "start_time": "2024-10-25T11:30:32.988Z"
   },
   {
    "duration": 1511,
    "start_time": "2024-10-25T11:30:33.648Z"
   },
   {
    "duration": 14,
    "start_time": "2024-10-25T11:30:35.160Z"
   },
   {
    "duration": 33,
    "start_time": "2024-10-25T11:30:35.175Z"
   },
   {
    "duration": 4,
    "start_time": "2024-10-25T11:30:35.211Z"
   },
   {
    "duration": 29,
    "start_time": "2024-10-25T11:30:35.216Z"
   },
   {
    "duration": 11,
    "start_time": "2024-10-25T11:36:19.677Z"
   },
   {
    "duration": 17,
    "start_time": "2024-10-25T11:36:39.408Z"
   },
   {
    "duration": 17,
    "start_time": "2024-10-25T11:47:10.192Z"
   },
   {
    "duration": 16,
    "start_time": "2024-10-25T11:47:18.646Z"
   },
   {
    "duration": 13,
    "start_time": "2024-10-25T11:47:57.608Z"
   },
   {
    "duration": 5,
    "start_time": "2024-10-25T11:48:09.544Z"
   },
   {
    "duration": 7,
    "start_time": "2024-10-25T11:49:50.913Z"
   },
   {
    "duration": 6,
    "start_time": "2024-10-25T11:50:06.657Z"
   },
   {
    "duration": 1786,
    "start_time": "2024-10-25T11:50:51.672Z"
   },
   {
    "duration": 6,
    "start_time": "2024-10-25T11:51:32.825Z"
   },
   {
    "duration": 8,
    "start_time": "2024-10-25T11:51:43.315Z"
   },
   {
    "duration": 7,
    "start_time": "2024-10-25T11:54:17.373Z"
   },
   {
    "duration": 64,
    "start_time": "2024-10-25T11:55:53.478Z"
   },
   {
    "duration": 6,
    "start_time": "2024-10-25T11:57:07.435Z"
   },
   {
    "duration": 3752,
    "start_time": "2024-10-25T11:58:38.682Z"
   },
   {
    "duration": 40,
    "start_time": "2024-10-25T11:58:42.436Z"
   },
   {
    "duration": 3,
    "start_time": "2024-10-25T11:58:42.477Z"
   },
   {
    "duration": 31,
    "start_time": "2024-10-25T11:58:42.481Z"
   },
   {
    "duration": 3,
    "start_time": "2024-10-25T11:58:42.514Z"
   },
   {
    "duration": 33,
    "start_time": "2024-10-25T11:58:42.518Z"
   },
   {
    "duration": 3,
    "start_time": "2024-10-25T11:58:42.553Z"
   },
   {
    "duration": 16,
    "start_time": "2024-10-25T11:58:42.557Z"
   },
   {
    "duration": 1703,
    "start_time": "2024-10-25T11:58:42.574Z"
   },
   {
    "duration": 5,
    "start_time": "2024-10-25T11:58:44.279Z"
   },
   {
    "duration": 36,
    "start_time": "2024-10-25T11:58:44.286Z"
   },
   {
    "duration": 393,
    "start_time": "2024-10-25T11:58:44.324Z"
   },
   {
    "duration": 259,
    "start_time": "2024-10-25T11:58:44.718Z"
   },
   {
    "duration": 315,
    "start_time": "2024-10-25T11:58:44.979Z"
   },
   {
    "duration": 1823,
    "start_time": "2024-10-25T11:58:45.295Z"
   },
   {
    "duration": 302,
    "start_time": "2024-10-25T11:58:47.119Z"
   },
   {
    "duration": 4783,
    "start_time": "2024-10-25T11:58:47.423Z"
   },
   {
    "duration": 177,
    "start_time": "2024-10-25T11:58:52.207Z"
   },
   {
    "duration": 462,
    "start_time": "2024-10-25T11:58:52.386Z"
   },
   {
    "duration": 275,
    "start_time": "2024-10-25T11:58:52.849Z"
   },
   {
    "duration": 10,
    "start_time": "2024-10-25T11:58:53.125Z"
   },
   {
    "duration": 259,
    "start_time": "2024-10-25T11:58:53.137Z"
   },
   {
    "duration": 494,
    "start_time": "2024-10-25T11:58:53.398Z"
   },
   {
    "duration": 690,
    "start_time": "2024-10-25T11:58:53.894Z"
   },
   {
    "duration": 1527,
    "start_time": "2024-10-25T11:58:54.585Z"
   },
   {
    "duration": 12,
    "start_time": "2024-10-25T11:58:56.113Z"
   },
   {
    "duration": 21,
    "start_time": "2024-10-25T11:58:56.126Z"
   },
   {
    "duration": 4,
    "start_time": "2024-10-25T11:58:56.148Z"
   },
   {
    "duration": 13,
    "start_time": "2024-10-25T11:58:56.153Z"
   },
   {
    "duration": 5,
    "start_time": "2024-10-25T11:58:56.167Z"
   },
   {
    "duration": 89,
    "start_time": "2024-10-25T11:58:56.173Z"
   },
   {
    "duration": 0,
    "start_time": "2024-10-25T11:58:56.263Z"
   },
   {
    "duration": 0,
    "start_time": "2024-10-25T11:58:56.264Z"
   },
   {
    "duration": 3695,
    "start_time": "2024-10-25T11:59:07.819Z"
   },
   {
    "duration": 41,
    "start_time": "2024-10-25T11:59:11.515Z"
   },
   {
    "duration": 3,
    "start_time": "2024-10-25T11:59:11.558Z"
   },
   {
    "duration": 42,
    "start_time": "2024-10-25T11:59:11.562Z"
   },
   {
    "duration": 3,
    "start_time": "2024-10-25T11:59:11.606Z"
   },
   {
    "duration": 20,
    "start_time": "2024-10-25T11:59:11.610Z"
   },
   {
    "duration": 15,
    "start_time": "2024-10-25T11:59:11.631Z"
   },
   {
    "duration": 33,
    "start_time": "2024-10-25T11:59:11.647Z"
   },
   {
    "duration": 1697,
    "start_time": "2024-10-25T11:59:11.681Z"
   },
   {
    "duration": 6,
    "start_time": "2024-10-25T11:59:13.382Z"
   },
   {
    "duration": 25,
    "start_time": "2024-10-25T11:59:13.389Z"
   },
   {
    "duration": 390,
    "start_time": "2024-10-25T11:59:13.416Z"
   },
   {
    "duration": 266,
    "start_time": "2024-10-25T11:59:13.807Z"
   },
   {
    "duration": 293,
    "start_time": "2024-10-25T11:59:14.076Z"
   },
   {
    "duration": 1869,
    "start_time": "2024-10-25T11:59:14.371Z"
   },
   {
    "duration": 296,
    "start_time": "2024-10-25T11:59:16.241Z"
   },
   {
    "duration": 4900,
    "start_time": "2024-10-25T11:59:16.538Z"
   },
   {
    "duration": 175,
    "start_time": "2024-10-25T11:59:21.439Z"
   },
   {
    "duration": 455,
    "start_time": "2024-10-25T11:59:21.615Z"
   },
   {
    "duration": 293,
    "start_time": "2024-10-25T11:59:22.072Z"
   },
   {
    "duration": 10,
    "start_time": "2024-10-25T11:59:22.366Z"
   },
   {
    "duration": 307,
    "start_time": "2024-10-25T11:59:22.377Z"
   },
   {
    "duration": 498,
    "start_time": "2024-10-25T11:59:22.686Z"
   },
   {
    "duration": 669,
    "start_time": "2024-10-25T11:59:23.185Z"
   },
   {
    "duration": 1558,
    "start_time": "2024-10-25T11:59:23.855Z"
   },
   {
    "duration": 12,
    "start_time": "2024-10-25T11:59:25.414Z"
   },
   {
    "duration": 17,
    "start_time": "2024-10-25T11:59:25.427Z"
   },
   {
    "duration": 5,
    "start_time": "2024-10-25T11:59:25.445Z"
   },
   {
    "duration": 11,
    "start_time": "2024-10-25T11:59:25.452Z"
   },
   {
    "duration": 7,
    "start_time": "2024-10-25T11:59:25.465Z"
   },
   {
    "duration": 42,
    "start_time": "2024-10-25T11:59:25.473Z"
   },
   {
    "duration": 16,
    "start_time": "2024-10-25T11:59:25.517Z"
   },
   {
    "duration": 5853,
    "start_time": "2024-10-25T12:59:53.224Z"
   },
   {
    "duration": 44,
    "start_time": "2024-10-25T12:59:59.079Z"
   },
   {
    "duration": 4,
    "start_time": "2024-10-25T12:59:59.125Z"
   },
   {
    "duration": 45,
    "start_time": "2024-10-25T12:59:59.130Z"
   },
   {
    "duration": 3,
    "start_time": "2024-10-25T12:59:59.177Z"
   },
   {
    "duration": 63,
    "start_time": "2024-10-25T12:59:59.182Z"
   },
   {
    "duration": 6,
    "start_time": "2024-10-25T12:59:59.247Z"
   },
   {
    "duration": 15,
    "start_time": "2024-10-25T12:59:59.255Z"
   },
   {
    "duration": 2316,
    "start_time": "2024-10-25T12:59:59.272Z"
   },
   {
    "duration": 6,
    "start_time": "2024-10-25T13:00:01.590Z"
   },
   {
    "duration": 171,
    "start_time": "2024-10-25T13:00:01.597Z"
   },
   {
    "duration": 574,
    "start_time": "2024-10-25T13:00:01.770Z"
   },
   {
    "duration": 302,
    "start_time": "2024-10-25T13:00:02.345Z"
   },
   {
    "duration": 330,
    "start_time": "2024-10-25T13:00:02.649Z"
   },
   {
    "duration": 2534,
    "start_time": "2024-10-25T13:00:02.981Z"
   },
   {
    "duration": 366,
    "start_time": "2024-10-25T13:00:05.520Z"
   },
   {
    "duration": 6884,
    "start_time": "2024-10-25T13:00:05.888Z"
   },
   {
    "duration": 215,
    "start_time": "2024-10-25T13:00:12.774Z"
   },
   {
    "duration": 592,
    "start_time": "2024-10-25T13:00:12.991Z"
   },
   {
    "duration": 369,
    "start_time": "2024-10-25T13:00:13.585Z"
   },
   {
    "duration": 12,
    "start_time": "2024-10-25T13:00:13.956Z"
   },
   {
    "duration": 370,
    "start_time": "2024-10-25T13:00:13.969Z"
   },
   {
    "duration": 697,
    "start_time": "2024-10-25T13:00:14.341Z"
   },
   {
    "duration": 906,
    "start_time": "2024-10-25T13:00:15.040Z"
   },
   {
    "duration": 1967,
    "start_time": "2024-10-25T13:00:15.947Z"
   },
   {
    "duration": 27,
    "start_time": "2024-10-25T13:00:17.916Z"
   },
   {
    "duration": 26,
    "start_time": "2024-10-25T13:00:17.945Z"
   },
   {
    "duration": 5,
    "start_time": "2024-10-25T13:00:17.973Z"
   },
   {
    "duration": 28,
    "start_time": "2024-10-25T13:00:17.980Z"
   },
   {
    "duration": 27,
    "start_time": "2024-10-25T13:00:18.009Z"
   },
   {
    "duration": 11,
    "start_time": "2024-10-25T13:00:18.037Z"
   },
   {
    "duration": 22,
    "start_time": "2024-10-25T13:00:18.049Z"
   },
   {
    "duration": 6,
    "start_time": "2024-10-25T13:02:51.930Z"
   },
   {
    "duration": 7,
    "start_time": "2024-10-25T13:02:54.602Z"
   },
   {
    "duration": 14,
    "start_time": "2024-10-25T13:02:55.448Z"
   },
   {
    "duration": 3853,
    "start_time": "2024-10-25T13:52:50.164Z"
   },
   {
    "duration": 39,
    "start_time": "2024-10-25T13:52:54.019Z"
   },
   {
    "duration": 4,
    "start_time": "2024-10-25T13:52:54.060Z"
   },
   {
    "duration": 37,
    "start_time": "2024-10-25T13:52:54.065Z"
   },
   {
    "duration": 3,
    "start_time": "2024-10-25T13:52:54.104Z"
   },
   {
    "duration": 28,
    "start_time": "2024-10-25T13:52:54.108Z"
   },
   {
    "duration": 4,
    "start_time": "2024-10-25T13:52:54.138Z"
   },
   {
    "duration": 12,
    "start_time": "2024-10-25T13:52:54.143Z"
   },
   {
    "duration": 1732,
    "start_time": "2024-10-25T13:52:54.156Z"
   },
   {
    "duration": 6,
    "start_time": "2024-10-25T13:52:55.889Z"
   },
   {
    "duration": 31,
    "start_time": "2024-10-25T13:52:55.896Z"
   },
   {
    "duration": 394,
    "start_time": "2024-10-25T13:52:55.928Z"
   },
   {
    "duration": 269,
    "start_time": "2024-10-25T13:52:56.323Z"
   },
   {
    "duration": 340,
    "start_time": "2024-10-25T13:52:56.594Z"
   },
   {
    "duration": 1876,
    "start_time": "2024-10-25T13:52:56.936Z"
   },
   {
    "duration": 317,
    "start_time": "2024-10-25T13:52:58.814Z"
   },
   {
    "duration": 4931,
    "start_time": "2024-10-25T13:52:59.133Z"
   },
   {
    "duration": 192,
    "start_time": "2024-10-25T13:53:04.066Z"
   },
   {
    "duration": 483,
    "start_time": "2024-10-25T13:53:04.260Z"
   },
   {
    "duration": 297,
    "start_time": "2024-10-25T13:53:04.744Z"
   },
   {
    "duration": 10,
    "start_time": "2024-10-25T13:53:05.042Z"
   },
   {
    "duration": 251,
    "start_time": "2024-10-25T13:53:05.053Z"
   },
   {
    "duration": 514,
    "start_time": "2024-10-25T13:53:05.311Z"
   },
   {
    "duration": 665,
    "start_time": "2024-10-25T13:53:05.826Z"
   },
   {
    "duration": 1520,
    "start_time": "2024-10-25T13:53:06.493Z"
   },
   {
    "duration": 13,
    "start_time": "2024-10-25T13:53:08.015Z"
   },
   {
    "duration": 48,
    "start_time": "2024-10-25T13:53:08.030Z"
   },
   {
    "duration": 5,
    "start_time": "2024-10-25T13:53:08.080Z"
   },
   {
    "duration": 16,
    "start_time": "2024-10-25T13:53:08.086Z"
   },
   {
    "duration": 7,
    "start_time": "2024-10-25T13:53:08.103Z"
   },
   {
    "duration": 6,
    "start_time": "2024-10-25T13:53:08.112Z"
   },
   {
    "duration": 49,
    "start_time": "2024-10-25T13:53:08.120Z"
   },
   {
    "duration": 7,
    "start_time": "2024-10-25T13:53:57.163Z"
   },
   {
    "duration": 6,
    "start_time": "2024-10-25T13:54:10.010Z"
   },
   {
    "duration": 6,
    "start_time": "2024-10-25T13:54:16.921Z"
   },
   {
    "duration": 3935,
    "start_time": "2024-10-25T13:54:29.055Z"
   },
   {
    "duration": 41,
    "start_time": "2024-10-25T13:54:32.992Z"
   },
   {
    "duration": 11,
    "start_time": "2024-10-25T13:54:33.034Z"
   },
   {
    "duration": 58,
    "start_time": "2024-10-25T13:54:33.046Z"
   },
   {
    "duration": 3,
    "start_time": "2024-10-25T13:54:33.106Z"
   },
   {
    "duration": 55,
    "start_time": "2024-10-25T13:54:33.111Z"
   },
   {
    "duration": 24,
    "start_time": "2024-10-25T13:54:33.167Z"
   },
   {
    "duration": 18,
    "start_time": "2024-10-25T13:54:33.192Z"
   },
   {
    "duration": 1715,
    "start_time": "2024-10-25T13:54:33.211Z"
   },
   {
    "duration": 7,
    "start_time": "2024-10-25T13:54:34.928Z"
   },
   {
    "duration": 14,
    "start_time": "2024-10-25T13:54:34.936Z"
   },
   {
    "duration": 409,
    "start_time": "2024-10-25T13:54:34.952Z"
   },
   {
    "duration": 253,
    "start_time": "2024-10-25T13:54:35.362Z"
   },
   {
    "duration": 295,
    "start_time": "2024-10-25T13:54:35.619Z"
   },
   {
    "duration": 1947,
    "start_time": "2024-10-25T13:54:35.916Z"
   },
   {
    "duration": 321,
    "start_time": "2024-10-25T13:54:37.864Z"
   },
   {
    "duration": 4962,
    "start_time": "2024-10-25T13:54:38.186Z"
   },
   {
    "duration": 184,
    "start_time": "2024-10-25T13:54:43.149Z"
   },
   {
    "duration": 459,
    "start_time": "2024-10-25T13:54:43.335Z"
   },
   {
    "duration": 322,
    "start_time": "2024-10-25T13:54:43.795Z"
   },
   {
    "duration": 10,
    "start_time": "2024-10-25T13:54:44.118Z"
   },
   {
    "duration": 261,
    "start_time": "2024-10-25T13:54:44.129Z"
   },
   {
    "duration": 493,
    "start_time": "2024-10-25T13:54:44.392Z"
   },
   {
    "duration": 695,
    "start_time": "2024-10-25T13:54:44.886Z"
   },
   {
    "duration": 1549,
    "start_time": "2024-10-25T13:54:45.582Z"
   },
   {
    "duration": 12,
    "start_time": "2024-10-25T13:54:47.132Z"
   },
   {
    "duration": 31,
    "start_time": "2024-10-25T13:54:47.145Z"
   },
   {
    "duration": 52,
    "start_time": "2024-10-25T13:54:47.178Z"
   },
   {
    "duration": 49,
    "start_time": "2024-10-25T13:54:47.232Z"
   },
   {
    "duration": 12,
    "start_time": "2024-10-25T13:54:47.282Z"
   },
   {
    "duration": 56,
    "start_time": "2024-10-25T13:54:47.295Z"
   },
   {
    "duration": 27,
    "start_time": "2024-10-25T13:54:47.352Z"
   },
   {
    "duration": 3771,
    "start_time": "2024-10-25T13:55:11.267Z"
   },
   {
    "duration": 39,
    "start_time": "2024-10-25T13:55:15.040Z"
   },
   {
    "duration": 26,
    "start_time": "2024-10-25T13:55:15.081Z"
   },
   {
    "duration": 64,
    "start_time": "2024-10-25T13:55:15.108Z"
   },
   {
    "duration": 11,
    "start_time": "2024-10-25T13:55:15.174Z"
   },
   {
    "duration": 22,
    "start_time": "2024-10-25T13:55:15.187Z"
   },
   {
    "duration": 4,
    "start_time": "2024-10-25T13:55:15.210Z"
   },
   {
    "duration": 21,
    "start_time": "2024-10-25T13:55:15.215Z"
   },
   {
    "duration": 1769,
    "start_time": "2024-10-25T13:55:15.237Z"
   },
   {
    "duration": 7,
    "start_time": "2024-10-25T13:55:17.008Z"
   },
   {
    "duration": 57,
    "start_time": "2024-10-25T13:55:17.017Z"
   },
   {
    "duration": 380,
    "start_time": "2024-10-25T13:55:17.076Z"
   },
   {
    "duration": 239,
    "start_time": "2024-10-25T13:55:17.458Z"
   },
   {
    "duration": 323,
    "start_time": "2024-10-25T13:55:17.700Z"
   },
   {
    "duration": 1882,
    "start_time": "2024-10-25T13:55:18.024Z"
   },
   {
    "duration": 322,
    "start_time": "2024-10-25T13:55:19.907Z"
   },
   {
    "duration": 4887,
    "start_time": "2024-10-25T13:55:20.231Z"
   },
   {
    "duration": 196,
    "start_time": "2024-10-25T13:55:25.120Z"
   },
   {
    "duration": 486,
    "start_time": "2024-10-25T13:55:25.318Z"
   },
   {
    "duration": 291,
    "start_time": "2024-10-25T13:55:25.812Z"
   },
   {
    "duration": 16,
    "start_time": "2024-10-25T13:55:26.104Z"
   },
   {
    "duration": 273,
    "start_time": "2024-10-25T13:55:26.121Z"
   },
   {
    "duration": 490,
    "start_time": "2024-10-25T13:55:26.395Z"
   },
   {
    "duration": 723,
    "start_time": "2024-10-25T13:55:26.887Z"
   },
   {
    "duration": 1491,
    "start_time": "2024-10-25T13:55:27.611Z"
   },
   {
    "duration": 13,
    "start_time": "2024-10-25T13:55:29.104Z"
   },
   {
    "duration": 20,
    "start_time": "2024-10-25T13:55:29.118Z"
   },
   {
    "duration": 5,
    "start_time": "2024-10-25T13:55:29.139Z"
   },
   {
    "duration": 14,
    "start_time": "2024-10-25T13:55:29.145Z"
   },
   {
    "duration": 30,
    "start_time": "2024-10-25T13:55:29.161Z"
   },
   {
    "duration": 20,
    "start_time": "2024-10-25T13:55:29.192Z"
   },
   {
    "duration": 6,
    "start_time": "2024-10-25T13:55:29.213Z"
   },
   {
    "duration": 102,
    "start_time": "2024-10-25T14:24:14.393Z"
   },
   {
    "duration": 10,
    "start_time": "2024-10-25T14:24:22.739Z"
   },
   {
    "duration": 1402,
    "start_time": "2024-10-25T14:25:08.679Z"
   },
   {
    "duration": 3786,
    "start_time": "2024-10-25T14:29:25.433Z"
   },
   {
    "duration": 41,
    "start_time": "2024-10-25T14:29:29.221Z"
   },
   {
    "duration": 4,
    "start_time": "2024-10-25T14:29:29.263Z"
   },
   {
    "duration": 32,
    "start_time": "2024-10-25T14:29:29.269Z"
   },
   {
    "duration": 3,
    "start_time": "2024-10-25T14:29:29.302Z"
   },
   {
    "duration": 27,
    "start_time": "2024-10-25T14:29:29.306Z"
   },
   {
    "duration": 4,
    "start_time": "2024-10-25T14:29:29.334Z"
   },
   {
    "duration": 12,
    "start_time": "2024-10-25T14:29:29.340Z"
   },
   {
    "duration": 1522,
    "start_time": "2024-10-25T14:29:29.353Z"
   },
   {
    "duration": 5,
    "start_time": "2024-10-25T14:29:30.877Z"
   },
   {
    "duration": 31,
    "start_time": "2024-10-25T14:29:30.883Z"
   },
   {
    "duration": 392,
    "start_time": "2024-10-25T14:29:30.916Z"
   },
   {
    "duration": 271,
    "start_time": "2024-10-25T14:29:31.311Z"
   },
   {
    "duration": 310,
    "start_time": "2024-10-25T14:29:31.584Z"
   },
   {
    "duration": 1881,
    "start_time": "2024-10-25T14:29:31.895Z"
   },
   {
    "duration": 337,
    "start_time": "2024-10-25T14:29:33.778Z"
   },
   {
    "duration": 4859,
    "start_time": "2024-10-25T14:29:34.116Z"
   },
   {
    "duration": 172,
    "start_time": "2024-10-25T14:29:38.976Z"
   },
   {
    "duration": 464,
    "start_time": "2024-10-25T14:29:39.149Z"
   },
   {
    "duration": 286,
    "start_time": "2024-10-25T14:29:39.614Z"
   },
   {
    "duration": 16,
    "start_time": "2024-10-25T14:29:39.901Z"
   },
   {
    "duration": 267,
    "start_time": "2024-10-25T14:29:39.919Z"
   },
   {
    "duration": 476,
    "start_time": "2024-10-25T14:29:40.189Z"
   },
   {
    "duration": 672,
    "start_time": "2024-10-25T14:29:40.666Z"
   },
   {
    "duration": 1355,
    "start_time": "2024-10-25T14:29:41.340Z"
   },
   {
    "duration": 18,
    "start_time": "2024-10-25T14:29:42.696Z"
   },
   {
    "duration": 16,
    "start_time": "2024-10-25T14:29:42.715Z"
   },
   {
    "duration": 4,
    "start_time": "2024-10-25T14:29:42.734Z"
   },
   {
    "duration": 13,
    "start_time": "2024-10-25T14:29:42.740Z"
   },
   {
    "duration": 6,
    "start_time": "2024-10-25T14:29:42.754Z"
   },
   {
    "duration": 27,
    "start_time": "2024-10-25T14:29:42.761Z"
   },
   {
    "duration": 10,
    "start_time": "2024-10-25T14:29:42.789Z"
   },
   {
    "duration": 4887,
    "start_time": "2024-10-25T17:21:13.459Z"
   },
   {
    "duration": 178,
    "start_time": "2024-10-25T17:21:18.347Z"
   },
   {
    "duration": 3,
    "start_time": "2024-10-25T17:21:18.527Z"
   },
   {
    "duration": 37,
    "start_time": "2024-10-25T17:21:18.531Z"
   },
   {
    "duration": 2,
    "start_time": "2024-10-25T17:21:18.571Z"
   },
   {
    "duration": 56,
    "start_time": "2024-10-25T17:21:18.574Z"
   },
   {
    "duration": 65,
    "start_time": "2024-10-25T17:21:18.632Z"
   },
   {
    "duration": 19,
    "start_time": "2024-10-25T17:21:18.699Z"
   },
   {
    "duration": 1614,
    "start_time": "2024-10-25T17:21:18.720Z"
   },
   {
    "duration": 5,
    "start_time": "2024-10-25T17:21:20.335Z"
   },
   {
    "duration": 78,
    "start_time": "2024-10-25T17:21:20.341Z"
   },
   {
    "duration": 449,
    "start_time": "2024-10-25T17:21:20.421Z"
   },
   {
    "duration": 294,
    "start_time": "2024-10-25T17:21:20.872Z"
   },
   {
    "duration": 362,
    "start_time": "2024-10-25T17:21:21.169Z"
   },
   {
    "duration": 1943,
    "start_time": "2024-10-25T17:21:21.533Z"
   },
   {
    "duration": 344,
    "start_time": "2024-10-25T17:21:23.477Z"
   },
   {
    "duration": 5012,
    "start_time": "2024-10-25T17:21:23.823Z"
   },
   {
    "duration": 191,
    "start_time": "2024-10-25T17:21:28.836Z"
   },
   {
    "duration": 506,
    "start_time": "2024-10-25T17:21:29.029Z"
   },
   {
    "duration": 283,
    "start_time": "2024-10-25T17:21:29.536Z"
   },
   {
    "duration": 10,
    "start_time": "2024-10-25T17:21:29.821Z"
   },
   {
    "duration": 86,
    "start_time": "2024-10-25T17:21:29.833Z"
   },
   {
    "duration": 264,
    "start_time": "2024-10-25T17:21:29.921Z"
   },
   {
    "duration": 586,
    "start_time": "2024-10-25T17:21:30.187Z"
   },
   {
    "duration": 724,
    "start_time": "2024-10-25T17:21:30.774Z"
   },
   {
    "duration": 1467,
    "start_time": "2024-10-25T17:21:31.500Z"
   },
   {
    "duration": 14,
    "start_time": "2024-10-25T17:21:32.969Z"
   },
   {
    "duration": 46,
    "start_time": "2024-10-25T17:21:32.984Z"
   },
   {
    "duration": 13,
    "start_time": "2024-10-25T17:21:33.032Z"
   },
   {
    "duration": 37,
    "start_time": "2024-10-25T17:21:33.047Z"
   },
   {
    "duration": 38,
    "start_time": "2024-10-25T17:21:33.085Z"
   },
   {
    "duration": 39,
    "start_time": "2024-10-25T17:21:33.124Z"
   },
   {
    "duration": 55,
    "start_time": "2024-10-25T17:21:33.165Z"
   },
   {
    "duration": 4255,
    "start_time": "2024-10-25T17:40:32.341Z"
   },
   {
    "duration": 40,
    "start_time": "2024-10-25T17:40:36.598Z"
   },
   {
    "duration": 4,
    "start_time": "2024-10-25T17:40:36.639Z"
   },
   {
    "duration": 42,
    "start_time": "2024-10-25T17:40:36.645Z"
   },
   {
    "duration": 2,
    "start_time": "2024-10-25T17:40:36.689Z"
   },
   {
    "duration": 40,
    "start_time": "2024-10-25T17:40:36.693Z"
   },
   {
    "duration": 31,
    "start_time": "2024-10-25T17:40:36.734Z"
   },
   {
    "duration": 20,
    "start_time": "2024-10-25T17:40:36.766Z"
   },
   {
    "duration": 1469,
    "start_time": "2024-10-25T17:40:36.788Z"
   },
   {
    "duration": 4,
    "start_time": "2024-10-25T17:40:38.259Z"
   },
   {
    "duration": 59,
    "start_time": "2024-10-25T17:40:38.265Z"
   },
   {
    "duration": 363,
    "start_time": "2024-10-25T17:40:38.325Z"
   },
   {
    "duration": 277,
    "start_time": "2024-10-25T17:40:38.690Z"
   },
   {
    "duration": 320,
    "start_time": "2024-10-25T17:40:38.971Z"
   },
   {
    "duration": 1749,
    "start_time": "2024-10-25T17:40:39.292Z"
   },
   {
    "duration": 303,
    "start_time": "2024-10-25T17:40:41.042Z"
   },
   {
    "duration": 4702,
    "start_time": "2024-10-25T17:40:41.346Z"
   },
   {
    "duration": 174,
    "start_time": "2024-10-25T17:40:46.049Z"
   },
   {
    "duration": 460,
    "start_time": "2024-10-25T17:40:46.224Z"
   },
   {
    "duration": 299,
    "start_time": "2024-10-25T17:40:46.685Z"
   },
   {
    "duration": 9,
    "start_time": "2024-10-25T17:40:46.985Z"
   },
   {
    "duration": 14,
    "start_time": "2024-10-25T17:40:46.995Z"
   },
   {
    "duration": 284,
    "start_time": "2024-10-25T17:40:47.011Z"
   },
   {
    "duration": 568,
    "start_time": "2024-10-25T17:40:47.297Z"
   },
   {
    "duration": 656,
    "start_time": "2024-10-25T17:40:47.867Z"
   },
   {
    "duration": 1356,
    "start_time": "2024-10-25T17:40:48.525Z"
   },
   {
    "duration": 11,
    "start_time": "2024-10-25T17:40:49.882Z"
   },
   {
    "duration": 101,
    "start_time": "2024-10-25T17:40:49.894Z"
   },
   {
    "duration": 7,
    "start_time": "2024-10-25T17:40:49.997Z"
   },
   {
    "duration": 60,
    "start_time": "2024-10-25T17:40:50.005Z"
   },
   {
    "duration": 29,
    "start_time": "2024-10-25T17:40:50.067Z"
   },
   {
    "duration": 15,
    "start_time": "2024-10-25T17:40:50.097Z"
   },
   {
    "duration": 7,
    "start_time": "2024-10-25T17:40:50.113Z"
   },
   {
    "duration": 6022,
    "start_time": "2024-10-25T22:13:55.395Z"
   },
   {
    "duration": 99,
    "start_time": "2024-10-25T22:14:01.419Z"
   },
   {
    "duration": 3,
    "start_time": "2024-10-25T22:14:01.522Z"
   },
   {
    "duration": 56,
    "start_time": "2024-10-25T22:14:01.527Z"
   },
   {
    "duration": 3,
    "start_time": "2024-10-25T22:14:01.585Z"
   },
   {
    "duration": 38,
    "start_time": "2024-10-25T22:14:01.590Z"
   },
   {
    "duration": 5,
    "start_time": "2024-10-25T22:14:01.630Z"
   },
   {
    "duration": 17,
    "start_time": "2024-10-25T22:14:01.636Z"
   },
   {
    "duration": 1911,
    "start_time": "2024-10-25T22:14:01.655Z"
   },
   {
    "duration": 6,
    "start_time": "2024-10-25T22:14:03.568Z"
   },
   {
    "duration": 15,
    "start_time": "2024-10-25T22:14:03.575Z"
   },
   {
    "duration": 458,
    "start_time": "2024-10-25T22:14:03.591Z"
   },
   {
    "duration": 276,
    "start_time": "2024-10-25T22:14:04.051Z"
   },
   {
    "duration": 286,
    "start_time": "2024-10-25T22:14:04.328Z"
   },
   {
    "duration": 2271,
    "start_time": "2024-10-25T22:14:04.616Z"
   },
   {
    "duration": 343,
    "start_time": "2024-10-25T22:14:06.888Z"
   },
   {
    "duration": 6076,
    "start_time": "2024-10-25T22:14:07.232Z"
   },
   {
    "duration": 198,
    "start_time": "2024-10-25T22:14:13.310Z"
   },
   {
    "duration": 552,
    "start_time": "2024-10-25T22:14:13.509Z"
   },
   {
    "duration": 338,
    "start_time": "2024-10-25T22:14:14.063Z"
   },
   {
    "duration": 13,
    "start_time": "2024-10-25T22:14:14.403Z"
   },
   {
    "duration": 84,
    "start_time": "2024-10-25T22:14:14.418Z"
   },
   {
    "duration": 278,
    "start_time": "2024-10-25T22:14:14.504Z"
   },
   {
    "duration": 657,
    "start_time": "2024-10-25T22:14:14.784Z"
   },
   {
    "duration": 845,
    "start_time": "2024-10-25T22:14:15.443Z"
   },
   {
    "duration": 1682,
    "start_time": "2024-10-25T22:14:16.297Z"
   },
   {
    "duration": 21,
    "start_time": "2024-10-25T22:14:17.982Z"
   },
   {
    "duration": 18,
    "start_time": "2024-10-25T22:14:18.005Z"
   },
   {
    "duration": 4,
    "start_time": "2024-10-25T22:14:18.025Z"
   },
   {
    "duration": 34,
    "start_time": "2024-10-25T22:14:18.031Z"
   },
   {
    "duration": 21,
    "start_time": "2024-10-25T22:14:18.066Z"
   },
   {
    "duration": 39,
    "start_time": "2024-10-25T22:14:18.089Z"
   },
   {
    "duration": 13,
    "start_time": "2024-10-25T22:14:18.129Z"
   }
  ],
  "kernelspec": {
   "display_name": "Python 3 (ipykernel)",
   "language": "python",
   "name": "python3"
  },
  "language_info": {
   "codemirror_mode": {
    "name": "ipython",
    "version": 3
   },
   "file_extension": ".py",
   "mimetype": "text/x-python",
   "name": "python",
   "nbconvert_exporter": "python",
   "pygments_lexer": "ipython3",
   "version": "3.11.7"
  },
  "toc": {
   "base_numbering": 1,
   "nav_menu": {},
   "number_sections": true,
   "sideBar": true,
   "skip_h1_title": true,
   "title_cell": "Table of Contents",
   "title_sidebar": "Contents",
   "toc_cell": false,
   "toc_position": {
    "height": "calc(100% - 180px)",
    "left": "10px",
    "top": "150px",
    "width": "165px"
   },
   "toc_section_display": true,
   "toc_window_display": true
  }
 },
 "nbformat": 4,
 "nbformat_minor": 4
}
